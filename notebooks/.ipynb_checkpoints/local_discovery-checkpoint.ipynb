{
 "cells": [
  {
   "cell_type": "markdown",
   "metadata": {},
   "source": [
    "<a id = 'top-of-notebook'></a>\n",
    "# Local Discovery and Model Creation\n",
    "In this notebook, we'll be doing some basic discovery and model creation amongst our raw datasets. We'll then re-package all this work into something that we can later deploy via AWS SageMaker. (Revisit with more information later.)"
   ]
  },
  {
   "cell_type": "markdown",
   "metadata": {},
   "source": [
    "<a id = 'table-of-contents'></a>\n",
    "## Table of Contents\n",
    "- [Environment Setup](#environment-setup)\n",
    "- [Exploratory Data Analysis](#exploratory-data-analysis)\n",
    "- [Feature Engineering](#feature-engineering)\n",
    "    - [Engineering Notes](#engineering-notes)\n",
    "    - [Feature Pipeline](#feature-pipeline)\n",
    "- [Model Experiments](#model-experiments)\n",
    "    - [Logistic Regression Model](#logistic-regression-model)\n",
    "    - [Random Forest Classification Model](#rfc-model)\n",
    "    - [CatBoost Model](#catboost-model)\n",
    "- [Model Validation](#model-validation)\n",
    "    - [Logistic Regression Validation](#lr-validation)\n",
    "    - [Random Forest Classifier Validation](#rfc-validation)\n",
    "    - [CatBoost Validation](#catboost-validation)\n",
    "    - [Validation Reflection](#validation-reflection)\n",
    "- [Final Model Pipeline](#final-model-pipeline)"
   ]
  },
  {
   "cell_type": "markdown",
   "metadata": {},
   "source": [
    "<a id = 'environment-setup'></a>\n",
    "## Environment Setup\n",
    "In this first brief section, we'll set our project up with the Python libraries we'll be using as well as importing the raw datasets."
   ]
  },
  {
   "cell_type": "code",
   "execution_count": 181,
   "metadata": {},
   "outputs": [],
   "source": [
    "# Importing general Python libraries\n",
    "import os\n",
    "import joblib\n",
    "import warnings\n",
    "\n",
    "# Importing PyData libraries\n",
    "import numpy as np\n",
    "import pandas as pd\n",
    "import matplotlib.pyplot as plt\n",
    "\n",
    "# Importing preprocessing libraries\n",
    "from sklearn.preprocessing import StandardScaler, OneHotEncoder, FunctionTransformer\n",
    "from sklearn.impute import SimpleImputer\n",
    "from sklearn.pipeline import Pipeline\n",
    "from sklearn.compose import ColumnTransformer\n",
    "from sklearn.model_selection import GridSearchCV, train_test_split, KFold\n",
    "\n",
    "# Importing modeling libraries\n",
    "from sklearn.linear_model import LogisticRegression\n",
    "from sklearn.ensemble import RandomForestClassifier\n",
    "from catboost import CatBoostClassifier\n",
    "\n",
    "# Importing metric functions\n",
    "from sklearn.metrics import accuracy_score, roc_auc_score, confusion_matrix\n",
    "\n",
    "# Delineating magic command to view graphs / charts within notebook\n",
    "%matplotlib inline"
   ]
  },
  {
   "cell_type": "code",
   "execution_count": 40,
   "metadata": {},
   "outputs": [],
   "source": [
    "# Hiding Warnings\n",
    "warnings.filterwarnings('ignore')"
   ]
  },
  {
   "cell_type": "code",
   "execution_count": 2,
   "metadata": {},
   "outputs": [],
   "source": [
    "# Importing raw datasets as Pandas DataFrames\n",
    "raw_train = pd.read_csv('../data/raw/train.csv')\n",
    "raw_test = pd.read_csv('../data/raw/test.csv')"
   ]
  },
  {
   "cell_type": "code",
   "execution_count": 3,
   "metadata": {},
   "outputs": [
    {
     "data": {
      "text/html": [
       "<div>\n",
       "<style scoped>\n",
       "    .dataframe tbody tr th:only-of-type {\n",
       "        vertical-align: middle;\n",
       "    }\n",
       "\n",
       "    .dataframe tbody tr th {\n",
       "        vertical-align: top;\n",
       "    }\n",
       "\n",
       "    .dataframe thead th {\n",
       "        text-align: right;\n",
       "    }\n",
       "</style>\n",
       "<table border=\"1\" class=\"dataframe\">\n",
       "  <thead>\n",
       "    <tr style=\"text-align: right;\">\n",
       "      <th></th>\n",
       "      <th>age</th>\n",
       "      <th>cost_of_ad</th>\n",
       "      <th>device_type</th>\n",
       "      <th>gender</th>\n",
       "      <th>in_initial_launch_location</th>\n",
       "      <th>income</th>\n",
       "      <th>n_drivers</th>\n",
       "      <th>n_vehicles</th>\n",
       "      <th>prior_ins_tenure</th>\n",
       "      <th>outcome</th>\n",
       "    </tr>\n",
       "  </thead>\n",
       "  <tbody>\n",
       "    <tr>\n",
       "      <td>0</td>\n",
       "      <td>56</td>\n",
       "      <td>0.005737</td>\n",
       "      <td>iPhone</td>\n",
       "      <td>M</td>\n",
       "      <td>0</td>\n",
       "      <td>62717</td>\n",
       "      <td>2</td>\n",
       "      <td>1</td>\n",
       "      <td>4</td>\n",
       "      <td>0</td>\n",
       "    </tr>\n",
       "    <tr>\n",
       "      <td>1</td>\n",
       "      <td>50</td>\n",
       "      <td>0.004733</td>\n",
       "      <td>desktop</td>\n",
       "      <td>F</td>\n",
       "      <td>0</td>\n",
       "      <td>64328</td>\n",
       "      <td>2</td>\n",
       "      <td>3</td>\n",
       "      <td>2</td>\n",
       "      <td>0</td>\n",
       "    </tr>\n",
       "    <tr>\n",
       "      <td>2</td>\n",
       "      <td>54</td>\n",
       "      <td>0.004129</td>\n",
       "      <td>laptop</td>\n",
       "      <td>M</td>\n",
       "      <td>0</td>\n",
       "      <td>83439</td>\n",
       "      <td>1</td>\n",
       "      <td>3</td>\n",
       "      <td>7</td>\n",
       "      <td>0</td>\n",
       "    </tr>\n",
       "    <tr>\n",
       "      <td>3</td>\n",
       "      <td>16</td>\n",
       "      <td>0.005117</td>\n",
       "      <td>Android</td>\n",
       "      <td>F</td>\n",
       "      <td>0</td>\n",
       "      <td>30110</td>\n",
       "      <td>2</td>\n",
       "      <td>3</td>\n",
       "      <td>0</td>\n",
       "      <td>0</td>\n",
       "    </tr>\n",
       "    <tr>\n",
       "      <td>4</td>\n",
       "      <td>37</td>\n",
       "      <td>0.003635</td>\n",
       "      <td>desktop</td>\n",
       "      <td>M</td>\n",
       "      <td>0</td>\n",
       "      <td>76565</td>\n",
       "      <td>2</td>\n",
       "      <td>1</td>\n",
       "      <td>5</td>\n",
       "      <td>0</td>\n",
       "    </tr>\n",
       "  </tbody>\n",
       "</table>\n",
       "</div>"
      ],
      "text/plain": [
       "   age  cost_of_ad device_type gender  in_initial_launch_location  income  \\\n",
       "0   56    0.005737      iPhone      M                           0   62717   \n",
       "1   50    0.004733     desktop      F                           0   64328   \n",
       "2   54    0.004129      laptop      M                           0   83439   \n",
       "3   16    0.005117     Android      F                           0   30110   \n",
       "4   37    0.003635     desktop      M                           0   76565   \n",
       "\n",
       "   n_drivers  n_vehicles  prior_ins_tenure  outcome  \n",
       "0          2           1                 4        0  \n",
       "1          2           3                 2        0  \n",
       "2          1           3                 7        0  \n",
       "3          2           3                 0        0  \n",
       "4          2           1                 5        0  "
      ]
     },
     "execution_count": 3,
     "metadata": {},
     "output_type": "execute_result"
    }
   ],
   "source": [
    "# Viewing first few rows of raw dataset\n",
    "raw_train.head()"
   ]
  },
  {
   "cell_type": "markdown",
   "metadata": {},
   "source": [
    "[*Return to Top of Notebook*](#top-of-notebook)"
   ]
  },
  {
   "cell_type": "markdown",
   "metadata": {},
   "source": [
    "<a id = 'exploratory-data-analysis'></a>\n",
    "## Exploratory Data Analysis\n",
    "With our raw datasets imported, we'll perform some basic EDA to explore how we might engineer our features down in the forthcoming section."
   ]
  },
  {
   "cell_type": "code",
   "execution_count": 4,
   "metadata": {},
   "outputs": [
    {
     "name": "stdout",
     "output_type": "stream",
     "text": [
      "<class 'pandas.core.frame.DataFrame'>\n",
      "RangeIndex: 10000 entries, 0 to 9999\n",
      "Data columns (total 10 columns):\n",
      "age                           10000 non-null int64\n",
      "cost_of_ad                    10000 non-null float64\n",
      "device_type                   10000 non-null object\n",
      "gender                        9731 non-null object\n",
      "in_initial_launch_location    10000 non-null int64\n",
      "income                        10000 non-null int64\n",
      "n_drivers                     10000 non-null int64\n",
      "n_vehicles                    10000 non-null int64\n",
      "prior_ins_tenure              10000 non-null int64\n",
      "outcome                       10000 non-null int64\n",
      "dtypes: float64(1), int64(7), object(2)\n",
      "memory usage: 781.4+ KB\n"
     ]
    }
   ],
   "source": [
    "# Viewing basic information about the dataset\n",
    "raw_train.info()"
   ]
  },
  {
   "cell_type": "code",
   "execution_count": 5,
   "metadata": {},
   "outputs": [
    {
     "data": {
      "image/png": "[encoded data removed]",
      "text/plain": [
       "<Figure size 432x288 with 1 Axes>"
      ]
     },
     "metadata": {
      "needs_background": "light"
     },
     "output_type": "display_data"
    }
   ],
   "source": [
    "# Viewing age ranges in a histogram\n",
    "raw_train['age'].hist();"
   ]
  },
  {
   "cell_type": "code",
   "execution_count": 6,
   "metadata": {},
   "outputs": [
    {
     "data": {
      "image/png": "[encoded data removed]",
      "text/plain": [
       "<Figure size 432x288 with 1 Axes>"
      ]
     },
     "metadata": {
      "needs_background": "light"
     },
     "output_type": "display_data"
    }
   ],
   "source": [
    "# Viewing cost of ad ranges in a histogram\n",
    "raw_train['cost_of_ad'].hist();"
   ]
  },
  {
   "cell_type": "code",
   "execution_count": 7,
   "metadata": {},
   "outputs": [
    {
     "data": {
      "text/plain": [
       "desktop    2032\n",
       "Android    2023\n",
       "laptop     1991\n",
       "other      1986\n",
       "iPhone     1968\n",
       "Name: device_type, dtype: int64"
      ]
     },
     "execution_count": 7,
     "metadata": {},
     "output_type": "execute_result"
    }
   ],
   "source": [
    "# Viewing the different categories listed under 'device_type'\n",
    "raw_train['device_type'].value_counts()"
   ]
  },
  {
   "cell_type": "code",
   "execution_count": 8,
   "metadata": {},
   "outputs": [
    {
     "data": {
      "text/plain": [
       "F    4970\n",
       "M    4761\n",
       "Name: gender, dtype: int64"
      ]
     },
     "execution_count": 8,
     "metadata": {},
     "output_type": "execute_result"
    }
   ],
   "source": [
    "# Viewing the different categories listed under 'gender'\n",
    "raw_train['gender'].value_counts()"
   ]
  },
  {
   "cell_type": "code",
   "execution_count": 9,
   "metadata": {},
   "outputs": [
    {
     "data": {
      "text/plain": [
       "0    5025\n",
       "1    4975\n",
       "Name: in_initial_launch_location, dtype: int64"
      ]
     },
     "execution_count": 9,
     "metadata": {},
     "output_type": "execute_result"
    }
   ],
   "source": [
    "# Viewing the different categories listed under 'in_initial_launch_location'\n",
    "raw_train['in_initial_launch_location'].value_counts()"
   ]
  },
  {
   "cell_type": "code",
   "execution_count": 10,
   "metadata": {},
   "outputs": [
    {
     "data": {
      "image/png": "[encoded data removed]",
      "text/plain": [
       "<Figure size 432x288 with 1 Axes>"
      ]
     },
     "metadata": {
      "needs_background": "light"
     },
     "output_type": "display_data"
    }
   ],
   "source": [
    "# Viewing income ranges in a histogram\n",
    "raw_train['income'].hist();"
   ]
  },
  {
   "cell_type": "code",
   "execution_count": 11,
   "metadata": {},
   "outputs": [
    {
     "data": {
      "text/plain": [
       "1    5030\n",
       "2    4970\n",
       "Name: n_drivers, dtype: int64"
      ]
     },
     "execution_count": 11,
     "metadata": {},
     "output_type": "execute_result"
    }
   ],
   "source": [
    "# Viewing number of drivers across categories\n",
    "raw_train['n_drivers'].value_counts()"
   ]
  },
  {
   "cell_type": "code",
   "execution_count": 12,
   "metadata": {},
   "outputs": [
    {
     "data": {
      "text/plain": [
       "3    3355\n",
       "1    3333\n",
       "2    3312\n",
       "Name: n_vehicles, dtype: int64"
      ]
     },
     "execution_count": 12,
     "metadata": {},
     "output_type": "execute_result"
    }
   ],
   "source": [
    "# Viewing number of vehicles across categories\n",
    "raw_train['n_vehicles'].value_counts()"
   ]
  },
  {
   "cell_type": "code",
   "execution_count": 232,
   "metadata": {},
   "outputs": [
    {
     "data": {
      "image/png": "[encoded data removed]",
      "text/plain": [
       "<Figure size 432x288 with 1 Axes>"
      ]
     },
     "metadata": {
      "needs_background": "light"
     },
     "output_type": "display_data"
    }
   ],
   "source": [
    "# Viewing categories under prior_ins_tenure in histogram\n",
    "raw_train['prior_ins_tenure'].hist(bins = 10);"
   ]
  },
  {
   "cell_type": "code",
   "execution_count": 234,
   "metadata": {},
   "outputs": [
    {
     "data": {
      "text/plain": [
       "0    9018\n",
       "1     982\n",
       "Name: outcome, dtype: int64"
      ]
     },
     "execution_count": 234,
     "metadata": {},
     "output_type": "execute_result"
    }
   ],
   "source": [
    "# Viewing balance of predictor column\n",
    "raw_train['outcome'].value_counts()"
   ]
  },
  {
   "cell_type": "markdown",
   "metadata": {},
   "source": [
    "[*Return to Top of Notebook*](#top-of-notebook)"
   ]
  },
  {
   "cell_type": "markdown",
   "metadata": {},
   "source": [
    "<a id = 'feature-engineering'></a>\n",
    "## Feature Engineering\n",
    "Now that we have completed our brief exploratory data analysis, we'll make notes on how we will plan to appropriately engineer this data for fitting to a few different classifiers in the model experiments section."
   ]
  },
  {
   "cell_type": "markdown",
   "metadata": {},
   "source": [
    "<a id = 'engineering-notes'></a>\n",
    "### Engineering Notes\n",
    "Before getting into the actual engineering notes, I should note that I don't have any context on what this dataset is actually hoping to do. It looks like it's associated to car insurance, but I don't know what pattern we're necessarily looking for. If I did have that context, I would probably provide a different assessment on many, if not all, of these variables. But the point of this repository is not necessarily to create the perfect model. It's more so to demonstrate a pattern on AWS SageMaker, and I happened to stumble across this dataset out of sheer curiosity. (And I'm tired of using Titanic. :) )\n",
    "\n",
    "Here are the ways we'll be adjusting each of the respective features:\n",
    "- **age**: This is a pretty standard feature with a more or less normal distribution of age ranges. We could leave this as is, but I'm feeling fancy. Let's break it into age bins.\n",
    "- **cost_of_ad**: I have no idea what the figures in this feature are supposed to represent, but they all follow the same convention and hold no nulls. Again, we're going to leave this one untouched.\n",
    "- **device_type**: Because this one contains categorical values, we'll re-engineer this column into new one-hot encoded features.\n",
    "- **gender**: We do have a handful of nulls here. I suppose if I was feeling extra fancy, we could do some footwork to create a \"sub-model\" to infer the nulls... but I'm going to be lazy and apply a very simple imputation strategy.\n",
    "- **in_initial_launch_location**: Another mystery feature. Binary between 0 and 1 with no nulls. We'll leave this one untouched.\n",
    "- **income**: It's worth noting how very, very normally distributed this feature is, but it's not doing anything we can do anything with without altering the data. We'll skip this one.\n",
    "- **n_drivers**: Not sure what to think about this one. I'm assuming it represents number of drivers in a household? Except that there are no zero values or anything higher than two. It seems suspicious, but hey, nothing I can do about it. We'll leave this one untouched.\n",
    "- **n_vehicles**: Same as n_drivers. Because people apparently can't have more than 3 cars. (Have they met Jay Leno?)\n",
    "- **prior_ins_tenure**: Like cost_of_ad, I'm not sure what this column is supposed to represent, but it's not going to cause any problems plugging into our model as is. We shall press forward and leave thee as is.\n",
    "- **outcome**: Our predictor column!\n",
    "\n",
    "To briefly recap, we'll only be adjusting the following features:\n",
    "- **age**: Re-engineering into age categories and the one-hot encoding\n",
    "- **device_type**: One-hot encoding\n",
    "- **gender**: Imputation and one-hot encoding"
   ]
  },
  {
   "cell_type": "markdown",
   "metadata": {},
   "source": [
    "<a id = 'feature-pipeline'></a>\n",
    "### Feature Pipeline\n",
    "Since these adjustments are pretty basic, we'll create a feature pipeline to make these adjustments."
   ]
  },
  {
   "cell_type": "code",
   "execution_count": 28,
   "metadata": {},
   "outputs": [],
   "source": [
    "# Splitting predictor feature from rest of dataset\n",
    "X_raw = raw_train.drop(columns = ['outcome'])\n",
    "y = raw_train[['outcome']]"
   ]
  },
  {
   "cell_type": "code",
   "execution_count": 15,
   "metadata": {},
   "outputs": [],
   "source": [
    "# Creating a custom function to appropriately transform the age column\n",
    "def create_age_bins(col):\n",
    "    # Defining necessary variables\n",
    "    age_bins = [-1, 12, 18, 25, 50, 100]\n",
    "    age_labels = ['child', 'teen', 'young_adult', 'adult', 'elder']\n",
    "    \n",
    "    # Segregating ages into age bins per defined variables above\n",
    "    age_cat_cols = pd.cut(col['age'], bins = age_bins, labels = age_labels)\n",
    "    age_cats = pd.DataFrame(data = age_cat_cols)\n",
    "\n",
    "    # Instantiating one-hot encoder\n",
    "    age_ohe = OneHotEncoder()\n",
    "    \n",
    "    # One hot encoding new age bins\n",
    "    ages_encoded = age_ohe.fit_transform(age_cats[['age']])\n",
    "    ages_encoded = pd.DataFrame(data = ages_encoded.toarray())\n",
    "    \n",
    "    return ages_encoded"
   ]
  },
  {
   "cell_type": "code",
   "execution_count": 16,
   "metadata": {},
   "outputs": [],
   "source": [
    "# Creating another custom function to appropriately transform age bin\n",
    "def transform_gender(col):\n",
    "    # Instantiating estimators\n",
    "    gender_imputer = SimpleImputer(strategy = 'most_frequent')\n",
    "    gender_ohe = OneHotEncoder()\n",
    "    \n",
    "    # Imputing null values with gender_imputer\n",
    "    gender_filled = gender_imputer.fit_transform(col)\n",
    "    df_gender_filled = pd.DataFrame(data = gender_filled, columns = ['gender'])\n",
    "    \n",
    "    # Splitting categorical columns using one hot encoder\n",
    "    gender_cols = gender_ohe.fit_transform(df_gender_filled)\n",
    "    \n",
    "    return gender_cols"
   ]
  },
  {
   "cell_type": "code",
   "execution_count": 17,
   "metadata": {},
   "outputs": [],
   "source": [
    "# Defining ColumnTransformer to appropriately apply transformations where required and leave everything else untouched\n",
    "preprocessor = ColumnTransformer(transformers = [\n",
    "    ('age_transformer', FunctionTransformer(create_age_bins, validate = False), ['age']),\n",
    "    ('gender_transformer', FunctionTransformer(transform_gender, validate = False), ['gender']),\n",
    "    ('device_transformer', OneHotEncoder(), ['device_type']),\n",
    "], remainder = 'passthrough')"
   ]
  },
  {
   "cell_type": "code",
   "execution_count": 19,
   "metadata": {},
   "outputs": [],
   "source": [
    "# Creating a final pipeline to first apply our feature engineering and then scaling the data\n",
    "feature_pipeline = Pipeline(steps = [\n",
    "    ('feature_engineering', preprocessor),\n",
    "    ('data_scaling', StandardScaler())\n",
    "])"
   ]
  },
  {
   "cell_type": "code",
   "execution_count": 20,
   "metadata": {},
   "outputs": [],
   "source": [
    "# Transforming X_raw set into X_engineered set\n",
    "X_engineered = feature_pipeline.fit_transform(X_raw)"
   ]
  },
  {
   "cell_type": "code",
   "execution_count": 22,
   "metadata": {},
   "outputs": [
    {
     "name": "stdout",
     "output_type": "stream",
     "text": [
      "X_engineered shape: (10000, 17)\n"
     ]
    },
    {
     "data": {
      "text/plain": [
       "array([[-1.11001930e+00,  1.86340331e+00, -2.63229921e-01, ...,\n",
       "         1.00601811e+00, -1.22548454e+00, -2.78808238e-01],\n",
       "       [ 9.00885233e-01, -5.36652475e-01, -2.63229921e-01, ...,\n",
       "         1.00601811e+00,  1.22010425e+00, -6.75180484e-01],\n",
       "       [-1.11001930e+00,  1.86340331e+00, -2.63229921e-01, ...,\n",
       "        -9.94017892e-01,  1.22010425e+00,  3.15750131e-01],\n",
       "       ...,\n",
       "       [-1.11001930e+00,  1.86340331e+00, -2.63229921e-01, ...,\n",
       "         1.00601811e+00, -2.69014767e-03,  7.12122377e-01],\n",
       "       [-1.11001930e+00, -5.36652475e-01,  3.79896022e+00, ...,\n",
       "         1.00601811e+00, -2.69014767e-03, -1.07155273e+00],\n",
       "       [ 9.00885233e-01, -5.36652475e-01, -2.63229921e-01, ...,\n",
       "         1.00601811e+00, -1.22548454e+00,  1.17564008e-01]])"
      ]
     },
     "execution_count": 22,
     "metadata": {},
     "output_type": "execute_result"
    }
   ],
   "source": [
    "# Viewing results of transformation\n",
    "print(f'X_engineered shape: {X_engineered.shape}')\n",
    "X_engineered"
   ]
  },
  {
   "cell_type": "markdown",
   "metadata": {},
   "source": [
    "[*Return to Top of Notebook*](#top-of-notebook)"
   ]
  },
  {
   "cell_type": "markdown",
   "metadata": {},
   "source": [
    "<a id = 'model-experiments'></a>\n",
    "## Model Experiments\n",
    "With our features engineered, our dataset is ready to be fit to some various classifiers. Given that different algorithms perform differently, we'll put our model through the paces with a couple different algorithms and assess which one performed the best. We'll try out two classifiers from the Scikit-Learn library and a third a lesser known gradient boosting library called [CatBoost](https://catboost.ai). May the best algorithm win!"
   ]
  },
  {
   "cell_type": "markdown",
   "metadata": {},
   "source": [
    "### Validation Set and KFolds\n",
    "Before jumping into validation, we are going to set aside part of our dataset for validation purposes. We'll also intantiate a KFolds instance for hyperparameter tuning."
   ]
  },
  {
   "cell_type": "code",
   "execution_count": 35,
   "metadata": {},
   "outputs": [],
   "source": [
    "# Creating holdout set from engineered X data and predictor y data\n",
    "X_train, X_val, y_train, y_val = train_test_split(X_engineered, y, random_state = 42)"
   ]
  },
  {
   "cell_type": "code",
   "execution_count": 121,
   "metadata": {},
   "outputs": [],
   "source": [
    "# Instantiating the Kfold object with 5 splits\n",
    "kfold = KFold(n_splits = 5, shuffle = True)"
   ]
  },
  {
   "cell_type": "code",
   "execution_count": 88,
   "metadata": {},
   "outputs": [],
   "source": [
    "# Turning X_engineered into a Pandas DataFrame for hyperparameter tuning\n",
    "df_X_engineered = pd.DataFrame(X_engineered)"
   ]
  },
  {
   "cell_type": "markdown",
   "metadata": {},
   "source": [
    "<a id = 'logistic-regression-model'></a>\n",
    "### Logisitic Regression Model"
   ]
  },
  {
   "cell_type": "markdown",
   "metadata": {},
   "source": [
    "#### Hyperparameter Tuning"
   ]
  },
  {
   "cell_type": "code",
   "execution_count": 148,
   "metadata": {},
   "outputs": [],
   "source": [
    "# Selecting hyperparameters to test with for logistic regression model\n",
    "lr_params = {\n",
    "    'C': [2, 2.5, 2.75, 3],\n",
    "    'max_iter': [5, 6, 7, 8, 9]\n",
    "}\n",
    "\n",
    "# Instantiating a basic logistic regression to experiment with\n",
    "lr_experimental = LogisticRegression()"
   ]
  },
  {
   "cell_type": "code",
   "execution_count": 149,
   "metadata": {},
   "outputs": [],
   "source": [
    "# Instantiating the GridSearch object for the logistic regression model\n",
    "lr_gridsearch = GridSearchCV(estimator = lr_experimental,\n",
    "                             param_grid = lr_params,\n",
    "                             scoring = 'roc_auc')"
   ]
  },
  {
   "cell_type": "code",
   "execution_count": 150,
   "metadata": {},
   "outputs": [
    {
     "name": "stdout",
     "output_type": "stream",
     "text": [
      "Best Parameters: {'C': 2.5, 'max_iter': 7}\n",
      "Best Parameters: {'C': 3, 'max_iter': 7}\n",
      "Best Parameters: {'C': 2, 'max_iter': 5}\n",
      "Best Parameters: {'C': 2.5, 'max_iter': 6}\n",
      "Best Parameters: {'C': 3, 'max_iter': 6}\n"
     ]
    }
   ],
   "source": [
    "# Using KFolds to determine the ideal hyperparameters\n",
    "for train_index, val_index in kfold.split(df_X_engineered, y):\n",
    "    X_train, X_val = df_X_engineered.iloc[train_index], df_X_engineered.iloc[val_index]\n",
    "    y_train, y_val = y.iloc[train_index], y.iloc[val_index]\n",
    "    \n",
    "    lr_gridsearch.fit(X_train, y_train)\n",
    "    print('Best Parameters: {}'.format(lr_gridsearch.best_params_))"
   ]
  },
  {
   "cell_type": "markdown",
   "metadata": {},
   "source": [
    "#### Final Candidate"
   ]
  },
  {
   "cell_type": "code",
   "execution_count": 151,
   "metadata": {},
   "outputs": [
    {
     "data": {
      "text/plain": [
       "LogisticRegression(C=2.5, class_weight=None, dual=False, fit_intercept=True,\n",
       "                   intercept_scaling=1, l1_ratio=None, max_iter=7,\n",
       "                   multi_class='warn', n_jobs=None, penalty='l2',\n",
       "                   random_state=None, solver='warn', tol=0.0001, verbose=0,\n",
       "                   warm_start=False)"
      ]
     },
     "execution_count": 151,
     "metadata": {},
     "output_type": "execute_result"
    }
   ],
   "source": [
    "# Instantiating final model object with tuned hyperparameters\n",
    "lr = LogisticRegression(C = 2.5,\n",
    "                        max_iter = 7)\n",
    "\n",
    "# Fitting training data to object\n",
    "lr.fit(X_train, y_train)"
   ]
  },
  {
   "cell_type": "markdown",
   "metadata": {},
   "source": [
    "<a id = 'rfc-model'></a>\n",
    "### Random Forest Classification Model"
   ]
  },
  {
   "cell_type": "markdown",
   "metadata": {},
   "source": [
    "#### Hyperparameter Tuning"
   ]
  },
  {
   "cell_type": "code",
   "execution_count": 177,
   "metadata": {},
   "outputs": [],
   "source": [
    "# Selecting hyperparameters to test with for random forest classifier model\n",
    "rfc_params = {\n",
    "    'n_estimators': [50, 100, 150],\n",
    "    'max_depth': [5, 7, 10],\n",
    "    'min_samples_leaf': [3, 5, 8]\n",
    "}\n",
    "\n",
    "# Instantiating a basic random forest classifier to experiment with\n",
    "rfc_experimental = RandomForestClassifier()"
   ]
  },
  {
   "cell_type": "code",
   "execution_count": 178,
   "metadata": {},
   "outputs": [],
   "source": [
    "# Instantiating the GridSearch object for the random forest classifier model\n",
    "rfc_gridsearch = GridSearchCV(estimator = rfc_experimental,\n",
    "                              param_grid = rfc_params,\n",
    "                              scoring = 'roc_auc')"
   ]
  },
  {
   "cell_type": "code",
   "execution_count": 179,
   "metadata": {},
   "outputs": [
    {
     "name": "stdout",
     "output_type": "stream",
     "text": [
      "Best Parameters: {'max_depth': 7, 'min_samples_leaf': 5, 'n_estimators': 150}\n",
      "Best Parameters: {'max_depth': 10, 'min_samples_leaf': 8, 'n_estimators': 150}\n",
      "Best Parameters: {'max_depth': 7, 'min_samples_leaf': 3, 'n_estimators': 50}\n",
      "Best Parameters: {'max_depth': 7, 'min_samples_leaf': 8, 'n_estimators': 150}\n",
      "Best Parameters: {'max_depth': 7, 'min_samples_leaf': 8, 'n_estimators': 150}\n"
     ]
    }
   ],
   "source": [
    "# Using KFolds to determine the ideal hyperparameters\n",
    "for train_index, val_index in kfold.split(df_X_engineered, y):\n",
    "    X_train, X_val = df_X_engineered.iloc[train_index], df_X_engineered.iloc[val_index]\n",
    "    y_train, y_val = y.iloc[train_index], y.iloc[val_index]\n",
    "    \n",
    "    rfc_gridsearch.fit(X_train, y_train)\n",
    "    print('Best Parameters: {}'.format(rfc_gridsearch.best_params_))"
   ]
  },
  {
   "cell_type": "markdown",
   "metadata": {},
   "source": [
    "#### Final Candidate"
   ]
  },
  {
   "cell_type": "code",
   "execution_count": 180,
   "metadata": {},
   "outputs": [
    {
     "data": {
      "text/plain": [
       "RandomForestClassifier(bootstrap=True, class_weight=None, criterion='gini',\n",
       "                       max_depth=7, max_features='auto', max_leaf_nodes=None,\n",
       "                       min_impurity_decrease=0.0, min_impurity_split=None,\n",
       "                       min_samples_leaf=8, min_samples_split=2,\n",
       "                       min_weight_fraction_leaf=0.0, n_estimators=150,\n",
       "                       n_jobs=None, oob_score=False, random_state=None,\n",
       "                       verbose=0, warm_start=False)"
      ]
     },
     "execution_count": 180,
     "metadata": {},
     "output_type": "execute_result"
    }
   ],
   "source": [
    "# Instantiating final model object with tuned hyperparameters\n",
    "rfc = RandomForestClassifier(n_estimators = 150,\n",
    "                             max_depth = 7,\n",
    "                             min_samples_leaf = 8)\n",
    "\n",
    "# Fitting training data to object\n",
    "rfc.fit(X_train, y_train)"
   ]
  },
  {
   "cell_type": "markdown",
   "metadata": {},
   "source": [
    "<a id = 'catboost-model'></a>\n",
    "### CatBoost Model"
   ]
  },
  {
   "cell_type": "markdown",
   "metadata": {},
   "source": [
    "#### Hyperparameter Tuning"
   ]
  },
  {
   "cell_type": "code",
   "execution_count": 173,
   "metadata": {},
   "outputs": [],
   "source": [
    "# Selecting hyperparameters to test with for CatBoost model\n",
    "catboost_params = {\n",
    "    'iterations': [500, 1000],\n",
    "    'depth': [6, 8]\n",
    "}\n",
    "\n",
    "# Instantiating a basic random forest classifier to experiment with\n",
    "catboost_experimental = CatBoostClassifier()"
   ]
  },
  {
   "cell_type": "code",
   "execution_count": 174,
   "metadata": {},
   "outputs": [],
   "source": [
    "# Instantiating the GridSearch object for the CatBoost model\n",
    "catboost_gridsearch = GridSearchCV(estimator = catboost_experimental,\n",
    "                                   param_grid = catboost_params,\n",
    "                                   scoring = 'roc_auc')"
   ]
  },
  {
   "cell_type": "code",
   "execution_count": 175,
   "metadata": {},
   "outputs": [
    {
     "name": "stdout",
     "output_type": "stream",
     "text": [
      "Best Parameters: {'depth': 6, 'iterations': 1000}\n",
      "Best Parameters: {'depth': 6, 'iterations': 1000}\n",
      "Best Parameters: {'depth': 6, 'iterations': 1000}\n",
      "Best Parameters: {'depth': 6, 'iterations': 1000}\n",
      "Best Parameters: {'depth': 6, 'iterations': 500}\n"
     ]
    }
   ],
   "source": [
    "# Using KFolds to determine the ideal hyperparameters\n",
    "for train_index, val_index in kfold.split(df_X_engineered, y):\n",
    "    X_train, X_val = df_X_engineered.iloc[train_index], df_X_engineered.iloc[val_index]\n",
    "    y_train, y_val = y.iloc[train_index], y.iloc[val_index]\n",
    "    \n",
    "    catboost_gridsearch.fit(X_train, y_train, verbose = False)\n",
    "    print('Best Parameters: {}'.format(catboost_gridsearch.best_params_))"
   ]
  },
  {
   "cell_type": "markdown",
   "metadata": {},
   "source": [
    "#### Final Candidate"
   ]
  },
  {
   "cell_type": "code",
   "execution_count": 176,
   "metadata": {},
   "outputs": [
    {
     "data": {
      "text/plain": [
       "<catboost.core.CatBoostClassifier at 0x1a21e86ad0>"
      ]
     },
     "execution_count": 176,
     "metadata": {},
     "output_type": "execute_result"
    }
   ],
   "source": [
    "# Instantiating final model object with tuned hyperparameters\n",
    "catboost = CatBoostClassifier(depth = 6,\n",
    "                              iterations = 1000)\n",
    "\n",
    "# Fitting training data to object\n",
    "catboost.fit(X_train, y_train, verbose = False)"
   ]
  },
  {
   "cell_type": "markdown",
   "metadata": {},
   "source": [
    "[*Return to Top of Notebook*](#top-of-notebook)"
   ]
  },
  {
   "cell_type": "markdown",
   "metadata": {},
   "source": [
    "<a id = 'model-validation'></a>\n",
    "## Model Validation\n",
    "Now that we have completed our model experiments, let's wrap up this notebook with some validation and assessing how the models perform against the actual test dataset."
   ]
  },
  {
   "cell_type": "code",
   "execution_count": 184,
   "metadata": {},
   "outputs": [],
   "source": [
    "# Transforming test dataset with feature_pipeline\n",
    "X_test = feature_pipeline.transform(raw_test)"
   ]
  },
  {
   "cell_type": "markdown",
   "metadata": {},
   "source": [
    "<a id = 'lr-validation'></a>\n",
    "### Logistic Regression Validation"
   ]
  },
  {
   "cell_type": "code",
   "execution_count": 187,
   "metadata": {},
   "outputs": [],
   "source": [
    "# Running validation set through trained logistic regression model\n",
    "lr_preds = lr.predict(X_val)"
   ]
  },
  {
   "cell_type": "code",
   "execution_count": 194,
   "metadata": {},
   "outputs": [
    {
     "name": "stdout",
     "output_type": "stream",
     "text": [
      "Logistic Regression Accuracy Score: 0.9085.\n",
      "Logistic Regression ROC-AUC Score: 0.536763566892136.\n",
      "Confusion Matrix for the Logistic Regression Model:\n",
      "[[1802   17]\n",
      " [ 166   15]]\n"
     ]
    }
   ],
   "source": [
    "# Viewing validation metrics of predicted values compared to actual values\n",
    "lr_accuracy = accuracy_score(y_val, lr_preds)\n",
    "lr_roc_auc = roc_auc_score(y_val, lr_preds)\n",
    "lr_confusion_matrix = confusion_matrix(y_val, lr_preds)\n",
    "\n",
    "print(f'Logistic Regression Accuracy Score: {lr_accuracy}.')\n",
    "print(f'Logistic Regression ROC-AUC Score: {lr_roc_auc}.')\n",
    "print('Confusion Matrix for the Logistic Regression Model:')\n",
    "print(lr_confusion_matrix)"
   ]
  },
  {
   "cell_type": "markdown",
   "metadata": {},
   "source": [
    "<a id = 'rfc-validation'></a>\n",
    "### Random Forest Classifier Validation"
   ]
  },
  {
   "cell_type": "code",
   "execution_count": 195,
   "metadata": {},
   "outputs": [],
   "source": [
    "# Running validation set through trained random forest classifier model\n",
    "rfc_preds = rfc.predict(X_val)"
   ]
  },
  {
   "cell_type": "code",
   "execution_count": 196,
   "metadata": {},
   "outputs": [
    {
     "name": "stdout",
     "output_type": "stream",
     "text": [
      "Random Forest Classifier Accuracy Score: 0.913.\n",
      "Random Forest Classifier ROC-AUC Score: 0.539237453643098.\n",
      "Confusion Matrix for the Random Forest Classifier Model:\n",
      "[[1811    8]\n",
      " [ 166   15]]\n"
     ]
    }
   ],
   "source": [
    "# Viewing validation metrics of predicted values compared to actual values\n",
    "rfc_accuracy = accuracy_score(y_val, rfc_preds)\n",
    "rfc_roc_auc = roc_auc_score(y_val, rfc_preds)\n",
    "rfc_confusion_matrix = confusion_matrix(y_val, rfc_preds)\n",
    "\n",
    "print(f'Random Forest Classifier Accuracy Score: {rfc_accuracy}.')\n",
    "print(f'Random Forest Classifier ROC-AUC Score: {rfc_roc_auc}.')\n",
    "print('Confusion Matrix for the Random Forest Classifier Model:')\n",
    "print(rfc_confusion_matrix)"
   ]
  },
  {
   "cell_type": "markdown",
   "metadata": {},
   "source": [
    "<a id = 'catboost-validation'></a>\n",
    "### CatBoost Validation"
   ]
  },
  {
   "cell_type": "code",
   "execution_count": 197,
   "metadata": {},
   "outputs": [],
   "source": [
    "# Running validation set through trained CatBoost model\n",
    "catboost_preds = catboost.predict(X_val)"
   ]
  },
  {
   "cell_type": "code",
   "execution_count": 200,
   "metadata": {},
   "outputs": [
    {
     "name": "stdout",
     "output_type": "stream",
     "text": [
      "CatBoost Accuracy Score: 0.927.\n",
      "CatBoost ROC-AUC Score: 0.6364859570099534.\n",
      "Confusion Matrix for the CatBoost Model:\n",
      "[[1803   16]\n",
      " [ 130   51]]\n"
     ]
    }
   ],
   "source": [
    "# Viewing validation metrics of predicted values compared to actual values\n",
    "catboost_accuracy = accuracy_score(y_val, catboost_preds)\n",
    "catboost_roc_auc = roc_auc_score(y_val, catboost_preds)\n",
    "catboost_confusion_matrix = confusion_matrix(y_val, catboost_preds)\n",
    "\n",
    "print(f'CatBoost Accuracy Score: {catboost_accuracy}.')\n",
    "print(f'CatBoost ROC-AUC Score: {catboost_roc_auc}.')\n",
    "print('Confusion Matrix for the CatBoost Model:')\n",
    "print(catboost_confusion_matrix)"
   ]
  },
  {
   "cell_type": "markdown",
   "metadata": {},
   "source": [
    "<a id = 'validation-reflection'></a>\n",
    "### Validation Reflection\n",
    "So... I have to be honest... These scores are pretty bad. The accuracy might look alright, but the ROC-AUC score performed pretty poorly for all three. In a real model, these results would be unacceptable, so we would have to go back and reassess the patterns amongst our features. Again, this isn't really the purposes of my particular project here. My goal is to get a working model to play with in AWS SageMaker, and for that purpose, my project is still a success.\n",
    "\n",
    "Given that our CatBoost model did seem to fare better than the others, we'll finalize our pipeline by appending the CatBoost model to the feature pipeline to create one singular estimator.\n",
    "\n",
    "(Edit: After looking at the final printed results, I realized I probably forgot to account for a target class imbalance. Again, not going to spend time editing the models to account for this, but it is something to be mindful of.)"
   ]
  },
  {
   "cell_type": "markdown",
   "metadata": {},
   "source": [
    "[*Return to Top of Notebook*](#top-of-notebook)"
   ]
  },
  {
   "cell_type": "markdown",
   "metadata": {},
   "source": [
    "<a id = 'final-model-pipeline'></a>\n",
    "## Final Model Pipeline"
   ]
  },
  {
   "cell_type": "code",
   "execution_count": 209,
   "metadata": {},
   "outputs": [],
   "source": [
    "# Creating a final model Pipeline with our CatBoost model and feature pipeline\n",
    "catboost_pipeline = Pipeline(steps = [\n",
    "    ('feature_engineering', preprocessor),\n",
    "    ('data_scaling', StandardScaler()),\n",
    "    ('catboost_model', CatBoostClassifier(depth = 6, iterations = 1000, verbose = False))\n",
    "])"
   ]
  },
  {
   "cell_type": "code",
   "execution_count": 210,
   "metadata": {},
   "outputs": [
    {
     "data": {
      "text/plain": [
       "Pipeline(memory=None,\n",
       "         steps=[('feature_engineering',\n",
       "                 ColumnTransformer(n_jobs=None, remainder='passthrough',\n",
       "                                   sparse_threshold=0.3,\n",
       "                                   transformer_weights=None,\n",
       "                                   transformers=[('age_transformer',\n",
       "                                                  FunctionTransformer(accept_sparse=False,\n",
       "                                                                      check_inverse=True,\n",
       "                                                                      func=<function create_age_bins at 0x1a1e869050>,\n",
       "                                                                      inv_kw_args=None,\n",
       "                                                                      inverse_func=None,\n",
       "                                                                      kw_args=None,\n",
       "                                                                      pass_y='deprec...\n",
       "                                                 ('device_transformer',\n",
       "                                                  OneHotEncoder(categorical_features=None,\n",
       "                                                                categories=None,\n",
       "                                                                drop=None,\n",
       "                                                                dtype=<class 'numpy.float64'>,\n",
       "                                                                handle_unknown='error',\n",
       "                                                                n_values=None,\n",
       "                                                                sparse=True),\n",
       "                                                  ['device_type'])],\n",
       "                                   verbose=False)),\n",
       "                ('data_scaling',\n",
       "                 StandardScaler(copy=True, with_mean=True, with_std=True)),\n",
       "                ('catboost_model',\n",
       "                 <catboost.core.CatBoostClassifier object at 0x1a2202cdd0>)],\n",
       "         verbose=False)"
      ]
     },
     "execution_count": 210,
     "metadata": {},
     "output_type": "execute_result"
    }
   ],
   "source": [
    "# Fitting data to pipeline\n",
    "catboost_pipeline.fit(X_raw, y)"
   ]
  },
  {
   "cell_type": "code",
   "execution_count": 223,
   "metadata": {},
   "outputs": [],
   "source": [
    "# Testing pipeline against raw test dataset\n",
    "test_results = catboost_pipeline.predict(raw_test)\n",
    "test_result_probs = catboost_pipeline.predict_proba(raw_test)"
   ]
  },
  {
   "cell_type": "code",
   "execution_count": 231,
   "metadata": {},
   "outputs": [
    {
     "data": {
      "text/plain": [
       "0    9649\n",
       "1     351\n",
       "Name: pred, dtype: int64"
      ]
     },
     "execution_count": 231,
     "metadata": {},
     "output_type": "execute_result"
    }
   ],
   "source": [
    "# Viewing final results in a Pandas DataFrame\n",
    "df_test_results = pd.DataFrame(data = test_results, columns = ['pred'])\n",
    "df_test_results_probs = pd.DataFrame(data = test_result_probs, columns = ['prob_neg', 'prob_pos'])\n",
    "df_final = pd.concat([df_test_results, df_test_results_probs], axis = 1)\n",
    "\n",
    "df_final['pred'].value_counts()"
   ]
  },
  {
   "cell_type": "markdown",
   "metadata": {},
   "source": [
    "[*Return to Top of Notebook*](#top-of-notebook)"
   ]
  },
  {
   "cell_type": "code",
   "execution_count": null,
   "metadata": {},
   "outputs": [],
   "source": []
  }
 ],
 "metadata": {
  "kernelspec": {
   "display_name": "Python 3",
   "language": "python",
   "name": "python3"
  },
  "language_info": {
   "codemirror_mode": {
    "name": "ipython",
    "version": 3
   },
   "file_extension": ".py",
   "mimetype": "text/x-python",
   "name": "python",
   "nbconvert_exporter": "python",
   "pygments_lexer": "ipython3",
   "version": "3.7.4"
  }
 },
 "nbformat": 4,
 "nbformat_minor": 2
}
