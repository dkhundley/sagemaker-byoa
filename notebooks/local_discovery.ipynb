{
 "cells": [
  {
   "cell_type": "markdown",
   "metadata": {},
   "source": [
    "<a id = 'top-of-notebook'></a>\n",
    "# Local Discovery and Model Creation\n",
    "In this notebook, we'll be doing some basic discovery and model creation amongst our raw datasets. We'll then re-package all this work into something that we can later deploy via AWS SageMaker. (Revisit with more information later.)"
   ]
  },
  {
   "cell_type": "markdown",
   "metadata": {},
   "source": [
    "<a id = 'table-of-contents'></a>\n",
    "## Table of Contents\n",
    "- [Environment Setup](#environment-setup)\n",
    "- [Exploratory Data Analysis](#exploratory-data-analysis)\n",
    "- [Feature Engineering](#feature-engineering)\n",
    "- [Model Experiments](#model-experiments)\n",
    "- [Model Validation](#model-validation)"
   ]
  },
  {
   "cell_type": "markdown",
   "metadata": {},
   "source": [
    "<a id = 'environment-setup'></a>\n",
    "## Environment Setup\n",
    "In this first brief section, we'll set our project up with the Python libraries we'll be using as well as importing the raw datasets."
   ]
  },
  {
   "cell_type": "code",
   "execution_count": null,
   "metadata": {},
   "outputs": [],
   "source": []
  },
  {
   "cell_type": "code",
   "execution_count": null,
   "metadata": {},
   "outputs": [],
   "source": []
  },
  {
   "cell_type": "code",
   "execution_count": null,
   "metadata": {},
   "outputs": [],
   "source": []
  },
  {
   "cell_type": "markdown",
   "metadata": {},
   "source": [
    "[*Return to Top of Notebook*](#top-of-notebook)"
   ]
  },
  {
   "cell_type": "markdown",
   "metadata": {},
   "source": [
    "<a id = 'exploratory-data-analysis'></a>\n",
    "## Exploratory Data Analysis\n",
    "With our raw datasets imported, we'll perform some basic EDA to explore how we might engineer our features down in the forthcoming section."
   ]
  },
  {
   "cell_type": "code",
   "execution_count": null,
   "metadata": {},
   "outputs": [],
   "source": []
  },
  {
   "cell_type": "code",
   "execution_count": null,
   "metadata": {},
   "outputs": [],
   "source": []
  },
  {
   "cell_type": "code",
   "execution_count": null,
   "metadata": {},
   "outputs": [],
   "source": []
  },
  {
   "cell_type": "markdown",
   "metadata": {},
   "source": [
    "[*Return to Top of Notebook*](#top-of-notebook)"
   ]
  },
  {
   "cell_type": "markdown",
   "metadata": {},
   "source": [
    "<a id = 'feature-engineering'></a>\n",
    "## Feature Engineering\n",
    "Now that we have completed our brief exploratory data analysis, we'll make notes on how we will plan to appropriately engineer this data for fitting to a few different classifiers in the model experiments section."
   ]
  },
  {
   "cell_type": "code",
   "execution_count": null,
   "metadata": {},
   "outputs": [],
   "source": []
  },
  {
   "cell_type": "code",
   "execution_count": null,
   "metadata": {},
   "outputs": [],
   "source": []
  },
  {
   "cell_type": "code",
   "execution_count": null,
   "metadata": {},
   "outputs": [],
   "source": []
  },
  {
   "cell_type": "markdown",
   "metadata": {},
   "source": [
    "[*Return to Top of Notebook*](#top-of-notebook)"
   ]
  },
  {
   "cell_type": "markdown",
   "metadata": {},
   "source": [
    "<a id = 'model-experiments'></a>\n",
    "## Model Experiments\n",
    "With our features engineered, our dataset is ready to be fit to some various classifiers. Given that different algorithms perform differently, we'll put our model through the paces with a couple different algorithms and assess which one performed the best. May the best algorithm win!"
   ]
  },
  {
   "cell_type": "code",
   "execution_count": null,
   "metadata": {},
   "outputs": [],
   "source": []
  },
  {
   "cell_type": "code",
   "execution_count": null,
   "metadata": {},
   "outputs": [],
   "source": []
  },
  {
   "cell_type": "code",
   "execution_count": null,
   "metadata": {},
   "outputs": [],
   "source": []
  },
  {
   "cell_type": "markdown",
   "metadata": {},
   "source": [
    "[*Return to Top of Notebook*](#top-of-notebook)"
   ]
  },
  {
   "cell_type": "markdown",
   "metadata": {},
   "source": [
    "<a id = 'model-validation'></a>\n",
    "## Model "
   ]
  }
 ],
 "metadata": {
  "kernelspec": {
   "display_name": "Python 3",
   "language": "python",
   "name": "python3"
  },
  "language_info": {
   "codemirror_mode": {
    "name": "ipython",
    "version": 3
   },
   "file_extension": ".py",
   "mimetype": "text/x-python",
   "name": "python",
   "nbconvert_exporter": "python",
   "pygments_lexer": "ipython3",
   "version": "3.7.4"
  }
 },
 "nbformat": 4,
 "nbformat_minor": 2
}
