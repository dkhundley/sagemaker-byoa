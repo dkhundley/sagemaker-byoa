{
 "cells": [
  {
   "cell_type": "markdown",
   "metadata": {},
   "source": [
    "<a id = 'top-of-notebook'></a>\n",
    "# Local Discovery and Model Creation\n",
    "In this notebook, we'll be doing some basic discovery and model creation amongst our raw datasets. We'll then re-package all this work into something that we can later deploy via AWS SageMaker. (Revisit with more information later.)"
   ]
  },
  {
   "cell_type": "markdown",
   "metadata": {},
   "source": [
    "<a id = 'table-of-contents'></a>\n",
    "## Table of Contents\n",
    "- [Environment Setup](#environment-setup)\n",
    "- [Exploratory Data Analysis](#exploratory-data-analysis)\n",
    "- [Feature Engineering](#feature-engineering)\n",
    "    - [Engineering Notes](#engineering-notes)\n",
    "    - [Feature Pipeline](#feature-pipeline)\n",
    "- [Model Experiments](#model-experiments)\n",
    "    - [Logistic Regression Model](#logistic-regression-model)\n",
    "    - [Random Forest Classification Model](#rfc-model)\n",
    "    - [CatBoost Model](#catboost-model)\n",
    "- [Model Validation](#model-validation)"
   ]
  },
  {
   "cell_type": "markdown",
   "metadata": {},
   "source": [
    "<a id = 'environment-setup'></a>\n",
    "## Environment Setup\n",
    "In this first brief section, we'll set our project up with the Python libraries we'll be using as well as importing the raw datasets."
   ]
  },
  {
   "cell_type": "code",
   "execution_count": 39,
   "metadata": {},
   "outputs": [],
   "source": [
    "# Importing Python libraries\n",
    "import os\n",
    "import joblib\n",
    "import warnings\n",
    "\n",
    "import numpy as np\n",
    "import pandas as pd\n",
    "import matplotlib.pyplot as plt\n",
    "\n",
    "from sklearn.preprocessing import StandardScaler, OneHotEncoder, FunctionTransformer\n",
    "from sklearn.impute import SimpleImputer\n",
    "from sklearn.pipeline import Pipeline\n",
    "from sklearn.compose import ColumnTransformer\n",
    "from sklearn.model_selection import GridSearchCV, train_test_split, KFold\n",
    "\n",
    "from sklearn.linear_model import LogisticRegression\n",
    "from sklearn.ensemble import RandomForestClassifier\n",
    "from catboost import CatBoostClassifier\n",
    "\n",
    "%matplotlib inline"
   ]
  },
  {
   "cell_type": "code",
   "execution_count": 40,
   "metadata": {},
   "outputs": [],
   "source": [
    "# Hiding Warnings\n",
    "warnings.filterwarnings('ignore')"
   ]
  },
  {
   "cell_type": "code",
   "execution_count": 2,
   "metadata": {},
   "outputs": [],
   "source": [
    "# Importing raw datasets as Pandas DataFrames\n",
    "raw_train = pd.read_csv('../data/raw/train.csv')\n",
    "raw_test = pd.read_csv('../data/raw/test.csv')"
   ]
  },
  {
   "cell_type": "code",
   "execution_count": 3,
   "metadata": {},
   "outputs": [
    {
     "data": {
      "text/html": [
       "<div>\n",
       "<style scoped>\n",
       "    .dataframe tbody tr th:only-of-type {\n",
       "        vertical-align: middle;\n",
       "    }\n",
       "\n",
       "    .dataframe tbody tr th {\n",
       "        vertical-align: top;\n",
       "    }\n",
       "\n",
       "    .dataframe thead th {\n",
       "        text-align: right;\n",
       "    }\n",
       "</style>\n",
       "<table border=\"1\" class=\"dataframe\">\n",
       "  <thead>\n",
       "    <tr style=\"text-align: right;\">\n",
       "      <th></th>\n",
       "      <th>age</th>\n",
       "      <th>cost_of_ad</th>\n",
       "      <th>device_type</th>\n",
       "      <th>gender</th>\n",
       "      <th>in_initial_launch_location</th>\n",
       "      <th>income</th>\n",
       "      <th>n_drivers</th>\n",
       "      <th>n_vehicles</th>\n",
       "      <th>prior_ins_tenure</th>\n",
       "      <th>outcome</th>\n",
       "    </tr>\n",
       "  </thead>\n",
       "  <tbody>\n",
       "    <tr>\n",
       "      <td>0</td>\n",
       "      <td>56</td>\n",
       "      <td>0.005737</td>\n",
       "      <td>iPhone</td>\n",
       "      <td>M</td>\n",
       "      <td>0</td>\n",
       "      <td>62717</td>\n",
       "      <td>2</td>\n",
       "      <td>1</td>\n",
       "      <td>4</td>\n",
       "      <td>0</td>\n",
       "    </tr>\n",
       "    <tr>\n",
       "      <td>1</td>\n",
       "      <td>50</td>\n",
       "      <td>0.004733</td>\n",
       "      <td>desktop</td>\n",
       "      <td>F</td>\n",
       "      <td>0</td>\n",
       "      <td>64328</td>\n",
       "      <td>2</td>\n",
       "      <td>3</td>\n",
       "      <td>2</td>\n",
       "      <td>0</td>\n",
       "    </tr>\n",
       "    <tr>\n",
       "      <td>2</td>\n",
       "      <td>54</td>\n",
       "      <td>0.004129</td>\n",
       "      <td>laptop</td>\n",
       "      <td>M</td>\n",
       "      <td>0</td>\n",
       "      <td>83439</td>\n",
       "      <td>1</td>\n",
       "      <td>3</td>\n",
       "      <td>7</td>\n",
       "      <td>0</td>\n",
       "    </tr>\n",
       "    <tr>\n",
       "      <td>3</td>\n",
       "      <td>16</td>\n",
       "      <td>0.005117</td>\n",
       "      <td>Android</td>\n",
       "      <td>F</td>\n",
       "      <td>0</td>\n",
       "      <td>30110</td>\n",
       "      <td>2</td>\n",
       "      <td>3</td>\n",
       "      <td>0</td>\n",
       "      <td>0</td>\n",
       "    </tr>\n",
       "    <tr>\n",
       "      <td>4</td>\n",
       "      <td>37</td>\n",
       "      <td>0.003635</td>\n",
       "      <td>desktop</td>\n",
       "      <td>M</td>\n",
       "      <td>0</td>\n",
       "      <td>76565</td>\n",
       "      <td>2</td>\n",
       "      <td>1</td>\n",
       "      <td>5</td>\n",
       "      <td>0</td>\n",
       "    </tr>\n",
       "  </tbody>\n",
       "</table>\n",
       "</div>"
      ],
      "text/plain": [
       "   age  cost_of_ad device_type gender  in_initial_launch_location  income  \\\n",
       "0   56    0.005737      iPhone      M                           0   62717   \n",
       "1   50    0.004733     desktop      F                           0   64328   \n",
       "2   54    0.004129      laptop      M                           0   83439   \n",
       "3   16    0.005117     Android      F                           0   30110   \n",
       "4   37    0.003635     desktop      M                           0   76565   \n",
       "\n",
       "   n_drivers  n_vehicles  prior_ins_tenure  outcome  \n",
       "0          2           1                 4        0  \n",
       "1          2           3                 2        0  \n",
       "2          1           3                 7        0  \n",
       "3          2           3                 0        0  \n",
       "4          2           1                 5        0  "
      ]
     },
     "execution_count": 3,
     "metadata": {},
     "output_type": "execute_result"
    }
   ],
   "source": [
    "# Viewing first few rows of raw dataset\n",
    "raw_train.head()"
   ]
  },
  {
   "cell_type": "markdown",
   "metadata": {},
   "source": [
    "[*Return to Top of Notebook*](#top-of-notebook)"
   ]
  },
  {
   "cell_type": "markdown",
   "metadata": {},
   "source": [
    "<a id = 'exploratory-data-analysis'></a>\n",
    "## Exploratory Data Analysis\n",
    "With our raw datasets imported, we'll perform some basic EDA to explore how we might engineer our features down in the forthcoming section."
   ]
  },
  {
   "cell_type": "code",
   "execution_count": 4,
   "metadata": {},
   "outputs": [
    {
     "name": "stdout",
     "output_type": "stream",
     "text": [
      "<class 'pandas.core.frame.DataFrame'>\n",
      "RangeIndex: 10000 entries, 0 to 9999\n",
      "Data columns (total 10 columns):\n",
      "age                           10000 non-null int64\n",
      "cost_of_ad                    10000 non-null float64\n",
      "device_type                   10000 non-null object\n",
      "gender                        9731 non-null object\n",
      "in_initial_launch_location    10000 non-null int64\n",
      "income                        10000 non-null int64\n",
      "n_drivers                     10000 non-null int64\n",
      "n_vehicles                    10000 non-null int64\n",
      "prior_ins_tenure              10000 non-null int64\n",
      "outcome                       10000 non-null int64\n",
      "dtypes: float64(1), int64(7), object(2)\n",
      "memory usage: 781.4+ KB\n"
     ]
    }
   ],
   "source": [
    "# Viewing basic information about the dataset\n",
    "raw_train.info()"
   ]
  },
  {
   "cell_type": "code",
   "execution_count": 5,
   "metadata": {},
   "outputs": [
    {
     "data": {
      "image/png": "[encoded data removed]",
      "text/plain": [
       "<Figure size 432x288 with 1 Axes>"
      ]
     },
     "metadata": {
      "needs_background": "light"
     },
     "output_type": "display_data"
    }
   ],
   "source": [
    "# Viewing age ranges in a histogram\n",
    "raw_train['age'].hist();"
   ]
  },
  {
   "cell_type": "code",
   "execution_count": 6,
   "metadata": {},
   "outputs": [
    {
     "data": {
      "image/png": "[encoded data removed]",
      "text/plain": [
       "<Figure size 432x288 with 1 Axes>"
      ]
     },
     "metadata": {
      "needs_background": "light"
     },
     "output_type": "display_data"
    }
   ],
   "source": [
    "# Viewing cost of ad ranges in a histogram\n",
    "raw_train['cost_of_ad'].hist();"
   ]
  },
  {
   "cell_type": "code",
   "execution_count": 7,
   "metadata": {},
   "outputs": [
    {
     "data": {
      "text/plain": [
       "desktop    2032\n",
       "Android    2023\n",
       "laptop     1991\n",
       "other      1986\n",
       "iPhone     1968\n",
       "Name: device_type, dtype: int64"
      ]
     },
     "execution_count": 7,
     "metadata": {},
     "output_type": "execute_result"
    }
   ],
   "source": [
    "# Viewing the different categories listed under 'device_type'\n",
    "raw_train['device_type'].value_counts()"
   ]
  },
  {
   "cell_type": "code",
   "execution_count": 8,
   "metadata": {},
   "outputs": [
    {
     "data": {
      "text/plain": [
       "F    4970\n",
       "M    4761\n",
       "Name: gender, dtype: int64"
      ]
     },
     "execution_count": 8,
     "metadata": {},
     "output_type": "execute_result"
    }
   ],
   "source": [
    "# Viewing the different categories listed under 'gender'\n",
    "raw_train['gender'].value_counts()"
   ]
  },
  {
   "cell_type": "code",
   "execution_count": 9,
   "metadata": {},
   "outputs": [
    {
     "data": {
      "text/plain": [
       "0    5025\n",
       "1    4975\n",
       "Name: in_initial_launch_location, dtype: int64"
      ]
     },
     "execution_count": 9,
     "metadata": {},
     "output_type": "execute_result"
    }
   ],
   "source": [
    "# Viewing the different categories listed under 'in_initial_launch_location'\n",
    "raw_train['in_initial_launch_location'].value_counts()"
   ]
  },
  {
   "cell_type": "code",
   "execution_count": 10,
   "metadata": {},
   "outputs": [
    {
     "data": {
      "image/png": "[encoded data removed]",
      "text/plain": [
       "<Figure size 432x288 with 1 Axes>"
      ]
     },
     "metadata": {
      "needs_background": "light"
     },
     "output_type": "display_data"
    }
   ],
   "source": [
    "# Viewing income ranges in a histogram\n",
    "raw_train['income'].hist();"
   ]
  },
  {
   "cell_type": "code",
   "execution_count": 11,
   "metadata": {},
   "outputs": [
    {
     "data": {
      "text/plain": [
       "1    5030\n",
       "2    4970\n",
       "Name: n_drivers, dtype: int64"
      ]
     },
     "execution_count": 11,
     "metadata": {},
     "output_type": "execute_result"
    }
   ],
   "source": [
    "# Viewing number of drivers across categories\n",
    "raw_train['n_drivers'].value_counts()"
   ]
  },
  {
   "cell_type": "code",
   "execution_count": 12,
   "metadata": {},
   "outputs": [
    {
     "data": {
      "text/plain": [
       "3    3355\n",
       "1    3333\n",
       "2    3312\n",
       "Name: n_vehicles, dtype: int64"
      ]
     },
     "execution_count": 12,
     "metadata": {},
     "output_type": "execute_result"
    }
   ],
   "source": [
    "# Viewing number of vehicles across categories\n",
    "raw_train['n_vehicles'].value_counts()"
   ]
  },
  {
   "cell_type": "code",
   "execution_count": 13,
   "metadata": {},
   "outputs": [
    {
     "data": {
      "image/png": "[encoded data removed]",
      "text/plain": [
       "<Figure size 432x288 with 1 Axes>"
      ]
     },
     "metadata": {
      "needs_background": "light"
     },
     "output_type": "display_data"
    }
   ],
   "source": [
    "# Viewing categories under prior_ins_tenure in histogram\n",
    "raw_train['prior_ins_tenure'].hist(bins = 10);"
   ]
  },
  {
   "cell_type": "markdown",
   "metadata": {},
   "source": [
    "[*Return to Top of Notebook*](#top-of-notebook)"
   ]
  },
  {
   "cell_type": "markdown",
   "metadata": {},
   "source": [
    "<a id = 'feature-engineering'></a>\n",
    "## Feature Engineering\n",
    "Now that we have completed our brief exploratory data analysis, we'll make notes on how we will plan to appropriately engineer this data for fitting to a few different classifiers in the model experiments section."
   ]
  },
  {
   "cell_type": "markdown",
   "metadata": {},
   "source": [
    "<a id = 'engineering-notes'></a>\n",
    "### Engineering Notes\n",
    "Before getting into the actual engineering notes, I should note that I don't have any context on what this dataset is actually hoping to do. It looks like it's associated to car insurance, but I don't know what pattern we're necessarily looking for. If I did have that context, I would probably provide a different assessment on many, if not all, of these variables. But the point of this repository is not necessarily to create the perfect model. It's more so to demonstrate a pattern on AWS SageMaker, and I happened to stumble across this dataset out of sheer curiosity. (And I'm tired of using Titanic. :) )\n",
    "\n",
    "Here are the ways we'll be adjusting each of the respective features:\n",
    "- **age**: This is a pretty standard feature with a more or less normal distribution of age ranges. We could leave this as is, but I'm feeling fancy. Let's break it into age bins.\n",
    "- **cost_of_ad**: I have no idea what the figures in this feature are supposed to represent, but they all follow the same convention and hold no nulls. Again, we're going to leave this one untouched.\n",
    "- **device_type**: Because this one contains categorical values, we'll re-engineer this column into new one-hot encoded features.\n",
    "- **gender**: We do have a handful of nulls here. I suppose if I was feeling extra fancy, we could do some footwork to create a \"sub-model\" to infer the nulls... but I'm going to be lazy and apply a very simple imputation strategy.\n",
    "- **in_initial_launch_location**: Another mystery feature. Binary between 0 and 1 with no nulls. We'll leave this one untouched.\n",
    "- **income**: It's worth noting how very, very normally distributed this feature is, but it's not doing anything we can do anything with without altering the data. We'll skip this one.\n",
    "- **n_drivers**: Not sure what to think about this one. I'm assuming it represents number of drivers in a household? Except that there are no zero values or anything higher than two. It seems suspicious, but hey, nothing I can do about it. We'll leave this one untouched.\n",
    "- **n_vehicles**: Same as n_drivers. Because people apparently can't have more than 3 cars. (Have they met Jay Leno?)\n",
    "- **prior_ins_tenure**: Like cost_of_ad, I'm not sure what this column is supposed to represent, but it's not going to cause any problems plugging into our model as is. We shall press forward and leave thee as is.\n",
    "- **outcome**: Our predictor column!\n",
    "\n",
    "To briefly recap, we'll only be adjusting the following features:\n",
    "- **age**: Re-engineering into age categories and the one-hot encoding\n",
    "- **device_type**: One-hot encoding\n",
    "- **gender**: Imputation and one-hot encoding"
   ]
  },
  {
   "cell_type": "markdown",
   "metadata": {},
   "source": [
    "<a id = 'feature-pipeline'></a>\n",
    "### Feature Pipeline\n",
    "Since these adjustments are pretty basic, we'll create a feature pipeline to make these adjustments."
   ]
  },
  {
   "cell_type": "code",
   "execution_count": 28,
   "metadata": {},
   "outputs": [],
   "source": [
    "# Splitting predictor feature from rest of dataset\n",
    "X_raw = raw_train.drop(columns = ['outcome'])\n",
    "y = raw_train[['outcome']]"
   ]
  },
  {
   "cell_type": "code",
   "execution_count": 15,
   "metadata": {},
   "outputs": [],
   "source": [
    "# Creating a custom function to appropriately transform the age column\n",
    "def create_age_bins(col):\n",
    "    # Defining necessary variables\n",
    "    age_bins = [-1, 12, 18, 25, 50, 100]\n",
    "    age_labels = ['child', 'teen', 'young_adult', 'adult', 'elder']\n",
    "    \n",
    "    # Segregating ages into age bins per defined variables above\n",
    "    age_cat_cols = pd.cut(col['age'], bins = age_bins, labels = age_labels)\n",
    "    age_cats = pd.DataFrame(data = age_cat_cols)\n",
    "\n",
    "    # Instantiating one-hot encoder\n",
    "    age_ohe = OneHotEncoder()\n",
    "    \n",
    "    # One hot encoding new age bins\n",
    "    ages_encoded = age_ohe.fit_transform(age_cats[['age']])\n",
    "    ages_encoded = pd.DataFrame(data = ages_encoded.toarray())\n",
    "    \n",
    "    return ages_encoded"
   ]
  },
  {
   "cell_type": "code",
   "execution_count": 16,
   "metadata": {},
   "outputs": [],
   "source": [
    "# Creating another custom function to appropriately transform age bin\n",
    "def transform_gender(col):\n",
    "    # Instantiating estimators\n",
    "    gender_imputer = SimpleImputer(strategy = 'most_frequent')\n",
    "    gender_ohe = OneHotEncoder()\n",
    "    \n",
    "    # Imputing null values with gender_imputer\n",
    "    gender_filled = gender_imputer.fit_transform(col)\n",
    "    df_gender_filled = pd.DataFrame(data = gender_filled, columns = ['gender'])\n",
    "    \n",
    "    # Splitting categorical columns using one hot encoder\n",
    "    gender_cols = gender_ohe.fit_transform(df_gender_filled)\n",
    "    \n",
    "    return gender_cols"
   ]
  },
  {
   "cell_type": "code",
   "execution_count": 17,
   "metadata": {},
   "outputs": [],
   "source": [
    "# Defining ColumnTransformer to appropriately apply transformations where required and leave everything else untouched\n",
    "preprocessor = ColumnTransformer(transformers = [\n",
    "    ('age_transformer', FunctionTransformer(create_age_bins, validate = False), ['age']),\n",
    "    ('gender_transformer', FunctionTransformer(transform_gender, validate = False), ['gender']),\n",
    "    ('device_transformer', OneHotEncoder(), ['device_type']),\n",
    "], remainder = 'passthrough')"
   ]
  },
  {
   "cell_type": "code",
   "execution_count": 19,
   "metadata": {},
   "outputs": [],
   "source": [
    "# Creating a final pipeline to first apply our feature engineering and then scaling the data\n",
    "feature_pipeline = Pipeline(steps = [\n",
    "    ('feature_engineering', preprocessor),\n",
    "    ('data_scaling', StandardScaler())\n",
    "])"
   ]
  },
  {
   "cell_type": "code",
   "execution_count": 20,
   "metadata": {},
   "outputs": [],
   "source": [
    "# Transforming X_raw set into X_engineered set\n",
    "X_engineered = feature_pipeline.fit_transform(X_raw)"
   ]
  },
  {
   "cell_type": "code",
   "execution_count": 22,
   "metadata": {},
   "outputs": [
    {
     "name": "stdout",
     "output_type": "stream",
     "text": [
      "X_engineered shape: (10000, 17)\n"
     ]
    },
    {
     "data": {
      "text/plain": [
       "array([[-1.11001930e+00,  1.86340331e+00, -2.63229921e-01, ...,\n",
       "         1.00601811e+00, -1.22548454e+00, -2.78808238e-01],\n",
       "       [ 9.00885233e-01, -5.36652475e-01, -2.63229921e-01, ...,\n",
       "         1.00601811e+00,  1.22010425e+00, -6.75180484e-01],\n",
       "       [-1.11001930e+00,  1.86340331e+00, -2.63229921e-01, ...,\n",
       "        -9.94017892e-01,  1.22010425e+00,  3.15750131e-01],\n",
       "       ...,\n",
       "       [-1.11001930e+00,  1.86340331e+00, -2.63229921e-01, ...,\n",
       "         1.00601811e+00, -2.69014767e-03,  7.12122377e-01],\n",
       "       [-1.11001930e+00, -5.36652475e-01,  3.79896022e+00, ...,\n",
       "         1.00601811e+00, -2.69014767e-03, -1.07155273e+00],\n",
       "       [ 9.00885233e-01, -5.36652475e-01, -2.63229921e-01, ...,\n",
       "         1.00601811e+00, -1.22548454e+00,  1.17564008e-01]])"
      ]
     },
     "execution_count": 22,
     "metadata": {},
     "output_type": "execute_result"
    }
   ],
   "source": [
    "# Viewing results of transformation\n",
    "print(f'X_engineered shape: {X_engineered.shape}')\n",
    "X_engineered"
   ]
  },
  {
   "cell_type": "markdown",
   "metadata": {},
   "source": [
    "[*Return to Top of Notebook*](#top-of-notebook)"
   ]
  },
  {
   "cell_type": "markdown",
   "metadata": {},
   "source": [
    "<a id = 'model-experiments'></a>\n",
    "## Model Experiments\n",
    "With our features engineered, our dataset is ready to be fit to some various classifiers. Given that different algorithms perform differently, we'll put our model through the paces with a couple different algorithms and assess which one performed the best. We'll try out two classifiers from the Scikit-Learn library and a third a lesser known gradient boosting library called [CatBoost](https://catboost.ai). May the best algorithm win!"
   ]
  },
  {
   "cell_type": "markdown",
   "metadata": {},
   "source": [
    "### Validation Set and KFolds\n",
    "Before jumping into validation, we are going to set aside part of our dataset for validation purposes. We'll also intantiate a KFolds instance for hyperparameter tuning."
   ]
  },
  {
   "cell_type": "code",
   "execution_count": 35,
   "metadata": {},
   "outputs": [],
   "source": [
    "# Creating holdout set from engineered X data and predictor y data\n",
    "X_train, X_val, y_train, y_val = train_test_split(X_engineered, y, random_state = 42)"
   ]
  },
  {
   "cell_type": "code",
   "execution_count": 121,
   "metadata": {},
   "outputs": [],
   "source": [
    "# Instantiating the Kfold object with 5 splits\n",
    "kfold = KFold(n_splits = 5, shuffle = True)"
   ]
  },
  {
   "cell_type": "code",
   "execution_count": 88,
   "metadata": {},
   "outputs": [],
   "source": [
    "# Turning X_engineered into a DataFrame for hyperparameter tuning\n",
    "df_X_engineered = pd.DataFrame(X_engineered)"
   ]
  },
  {
   "cell_type": "markdown",
   "metadata": {},
   "source": [
    "<a id = 'logistic-regression-model'></a>\n",
    "### Logisitic Regression Model"
   ]
  },
  {
   "cell_type": "markdown",
   "metadata": {},
   "source": [
    "#### Hyperparameter Tuning"
   ]
  },
  {
   "cell_type": "code",
   "execution_count": 148,
   "metadata": {},
   "outputs": [],
   "source": [
    "# Selecting hyperparameters to test with for logistic regression model\n",
    "lr_params = {\n",
    "    'C': [2, 2.5, 2.75, 3],\n",
    "    'max_iter': [5, 6, 7, 8, 9]\n",
    "}\n",
    "\n",
    "# Instantiating a basic logistic regression to experiment with\n",
    "lr_experimental = LogisticRegression()"
   ]
  },
  {
   "cell_type": "code",
   "execution_count": 149,
   "metadata": {},
   "outputs": [],
   "source": [
    "# Instantiating the GridSearch object for the logistic regression model\n",
    "lr_gridsearch = GridSearchCV(estimator = lr_experimental,\n",
    "                             param_grid = lr_params,\n",
    "                             scoring = 'roc_auc')"
   ]
  },
  {
   "cell_type": "code",
   "execution_count": 150,
   "metadata": {},
   "outputs": [
    {
     "name": "stdout",
     "output_type": "stream",
     "text": [
      "Best Parameters: {'C': 2.5, 'max_iter': 7}\n",
      "Best Parameters: {'C': 3, 'max_iter': 7}\n",
      "Best Parameters: {'C': 2, 'max_iter': 5}\n",
      "Best Parameters: {'C': 2.5, 'max_iter': 6}\n",
      "Best Parameters: {'C': 3, 'max_iter': 6}\n"
     ]
    }
   ],
   "source": [
    "# Using KFolds to determine the ideal hyperparameters\n",
    "for train_index, val_index in kfold.split(df_X_engineered, y):\n",
    "    X_train, X_val = df_X_engineered.iloc[train_index], df_X_engineered.iloc[val_index]\n",
    "    y_train, y_val = y.iloc[train_index], y.iloc[val_index]\n",
    "    \n",
    "    lr_gridsearch.fit(X_train, y_train)\n",
    "    print('Best Parameters: {}'.format(lr_gridsearch.best_params_))"
   ]
  },
  {
   "cell_type": "markdown",
   "metadata": {},
   "source": [
    "#### Final Candidate"
   ]
  },
  {
   "cell_type": "code",
   "execution_count": 151,
   "metadata": {},
   "outputs": [
    {
     "data": {
      "text/plain": [
       "LogisticRegression(C=2.5, class_weight=None, dual=False, fit_intercept=True,\n",
       "                   intercept_scaling=1, l1_ratio=None, max_iter=7,\n",
       "                   multi_class='warn', n_jobs=None, penalty='l2',\n",
       "                   random_state=None, solver='warn', tol=0.0001, verbose=0,\n",
       "                   warm_start=False)"
      ]
     },
     "execution_count": 151,
     "metadata": {},
     "output_type": "execute_result"
    }
   ],
   "source": [
    "# Instantiating final model object with tuned hyperparameters\n",
    "lr = LogisticRegression(C = 2.5,\n",
    "                        max_iter = 7)\n",
    "\n",
    "# Fitting training data to object\n",
    "lr.fit(X_train, y_train)"
   ]
  },
  {
   "cell_type": "markdown",
   "metadata": {},
   "source": [
    "<a id = 'rfc-model'></a>\n",
    "### Random Forest Classification Model"
   ]
  },
  {
   "cell_type": "markdown",
   "metadata": {},
   "source": [
    "#### Hyperparameter Tuning"
   ]
  },
  {
   "cell_type": "code",
   "execution_count": 152,
   "metadata": {},
   "outputs": [],
   "source": [
    "# Selecting hyperparameters to test with for random forest classifier model\n",
    "rfc_params = {\n",
    "}\n",
    "\n",
    "# Instantiating a basic random forest classifier to experiment with\n",
    "rfc_experimental = RandomForestClassifier()"
   ]
  },
  {
   "cell_type": "code",
   "execution_count": null,
   "metadata": {},
   "outputs": [],
   "source": [
    "# Instantiating the GridSearch object for the random forest classifier model\n",
    "rfc_gridsearch = GridSearchCV(estimator = rfc_experimental,\n",
    "                              param_grid = rfc_params,\n",
    "                              scoring = 'roc_auc')"
   ]
  },
  {
   "cell_type": "code",
   "execution_count": null,
   "metadata": {},
   "outputs": [],
   "source": [
    "# Using KFolds to determine the ideal hyperparameters\n",
    "for train_index, val_index in kfold.split(df_X_engineered, y):\n",
    "    X_train, X_val = df_X_engineered.iloc[train_index], df_X_engineered.iloc[val_index]\n",
    "    y_train, y_val = y.iloc[train_index], y.iloc[val_index]\n",
    "    \n",
    "    rfc_gridsearch.fit(X_train, y_train)\n",
    "    print('Best Parameters: {}'.format(rfc_gridsearch.best_params_))"
   ]
  },
  {
   "cell_type": "markdown",
   "metadata": {},
   "source": [
    "#### Final Candidate"
   ]
  },
  {
   "cell_type": "code",
   "execution_count": 153,
   "metadata": {},
   "outputs": [
    {
     "data": {
      "text/plain": [
       "RandomForestClassifier(bootstrap=True, class_weight=None, criterion='gini',\n",
       "                       max_depth=None, max_features='auto', max_leaf_nodes=None,\n",
       "                       min_impurity_decrease=0.0, min_impurity_split=None,\n",
       "                       min_samples_leaf=1, min_samples_split=2,\n",
       "                       min_weight_fraction_leaf=0.0, n_estimators=10,\n",
       "                       n_jobs=None, oob_score=False, random_state=None,\n",
       "                       verbose=0, warm_start=False)"
      ]
     },
     "execution_count": 153,
     "metadata": {},
     "output_type": "execute_result"
    }
   ],
   "source": [
    "# Instantiating final model object with tuned hyperparameters\n",
    "rfc = RandomForestClassifier()\n",
    "\n",
    "# Fitting training data to object\n",
    "rfc.fit(X_train, y_train)"
   ]
  },
  {
   "cell_type": "markdown",
   "metadata": {},
   "source": [
    "<a id = 'catboost-model'></a>\n",
    "### CatBoost Model"
   ]
  },
  {
   "cell_type": "markdown",
   "metadata": {},
   "source": [
    "#### Hyperparameter Tuning"
   ]
  },
  {
   "cell_type": "code",
   "execution_count": 154,
   "metadata": {},
   "outputs": [],
   "source": [
    "# Selecting hyperparameters to test with for CatBoost model\n",
    "catboost_params = {\n",
    "}\n",
    "\n",
    "# Instantiating a basic random forest classifier to experiment with\n",
    "catboost_experimental = CatBoostClassifier()"
   ]
  },
  {
   "cell_type": "code",
   "execution_count": null,
   "metadata": {},
   "outputs": [],
   "source": [
    "# Instantiating the GridSearch object for the CatBoost model\n",
    "catboost_gridsearch = GridSearchCV(estimator = catboost_experimental,\n",
    "                                   param_grid = catboost_params,\n",
    "                                   scoring = 'roc_auc')"
   ]
  },
  {
   "cell_type": "code",
   "execution_count": null,
   "metadata": {},
   "outputs": [],
   "source": [
    "# Using KFolds to determine the ideal hyperparameters\n",
    "for train_index, val_index in kfold.split(df_X_engineered, y):\n",
    "    X_train, X_val = df_X_engineered.iloc[train_index], df_X_engineered.iloc[val_index]\n",
    "    y_train, y_val = y.iloc[train_index], y.iloc[val_index]\n",
    "    \n",
    "    catboost_gridsearch.fit(X_train, y_train)\n",
    "    print('Best Parameters: {}'.format(catboost_gridsearch.best_params_))"
   ]
  },
  {
   "cell_type": "markdown",
   "metadata": {},
   "source": [
    "#### Final Candidate"
   ]
  },
  {
   "cell_type": "code",
   "execution_count": 155,
   "metadata": {},
   "outputs": [
    {
     "name": "stdout",
     "output_type": "stream",
     "text": [
      "Learning rate set to 0.025035\n",
      "0:\tlearn: 0.6649540\ttotal: 77.4ms\tremaining: 1m 17s\n",
      "1:\tlearn: 0.6401030\ttotal: 82.1ms\tremaining: 41s\n",
      "2:\tlearn: 0.6152634\ttotal: 85.5ms\tremaining: 28.4s\n",
      "3:\tlearn: 0.5915743\ttotal: 88.9ms\tremaining: 22.1s\n",
      "4:\tlearn: 0.5722396\ttotal: 92.4ms\tremaining: 18.4s\n",
      "5:\tlearn: 0.5480577\ttotal: 95.3ms\tremaining: 15.8s\n",
      "6:\tlearn: 0.5305586\ttotal: 97.9ms\tremaining: 13.9s\n",
      "7:\tlearn: 0.5122595\ttotal: 101ms\tremaining: 12.5s\n",
      "8:\tlearn: 0.4953134\ttotal: 103ms\tremaining: 11.4s\n",
      "9:\tlearn: 0.4803379\ttotal: 106ms\tremaining: 10.5s\n",
      "10:\tlearn: 0.4666214\ttotal: 110ms\tremaining: 9.87s\n",
      "11:\tlearn: 0.4531928\ttotal: 113ms\tremaining: 9.28s\n",
      "12:\tlearn: 0.4412584\ttotal: 116ms\tremaining: 8.8s\n",
      "13:\tlearn: 0.4311465\ttotal: 119ms\tremaining: 8.35s\n",
      "14:\tlearn: 0.4194819\ttotal: 121ms\tremaining: 7.96s\n",
      "15:\tlearn: 0.4093601\ttotal: 125ms\tremaining: 7.66s\n",
      "16:\tlearn: 0.3987888\ttotal: 127ms\tremaining: 7.36s\n",
      "17:\tlearn: 0.3914356\ttotal: 130ms\tremaining: 7.1s\n",
      "18:\tlearn: 0.3832738\ttotal: 133ms\tremaining: 6.86s\n",
      "19:\tlearn: 0.3743967\ttotal: 136ms\tremaining: 6.64s\n",
      "20:\tlearn: 0.3682994\ttotal: 138ms\tremaining: 6.45s\n",
      "21:\tlearn: 0.3608061\ttotal: 141ms\tremaining: 6.28s\n",
      "22:\tlearn: 0.3552140\ttotal: 144ms\tremaining: 6.1s\n",
      "23:\tlearn: 0.3500732\ttotal: 147ms\tremaining: 5.96s\n",
      "24:\tlearn: 0.3460973\ttotal: 149ms\tremaining: 5.83s\n",
      "25:\tlearn: 0.3412938\ttotal: 152ms\tremaining: 5.7s\n",
      "26:\tlearn: 0.3358989\ttotal: 155ms\tremaining: 5.59s\n",
      "27:\tlearn: 0.3319861\ttotal: 158ms\tremaining: 5.48s\n",
      "28:\tlearn: 0.3273425\ttotal: 161ms\tremaining: 5.37s\n",
      "29:\tlearn: 0.3220716\ttotal: 163ms\tremaining: 5.28s\n",
      "30:\tlearn: 0.3174297\ttotal: 166ms\tremaining: 5.18s\n",
      "31:\tlearn: 0.3131939\ttotal: 169ms\tremaining: 5.1s\n",
      "32:\tlearn: 0.3087002\ttotal: 171ms\tremaining: 5.02s\n",
      "33:\tlearn: 0.3045446\ttotal: 174ms\tremaining: 4.94s\n",
      "34:\tlearn: 0.3002047\ttotal: 177ms\tremaining: 4.87s\n",
      "35:\tlearn: 0.2978650\ttotal: 179ms\tremaining: 4.8s\n",
      "36:\tlearn: 0.2950857\ttotal: 182ms\tremaining: 4.73s\n",
      "37:\tlearn: 0.2925133\ttotal: 186ms\tremaining: 4.72s\n",
      "38:\tlearn: 0.2897040\ttotal: 190ms\tremaining: 4.68s\n",
      "39:\tlearn: 0.2872210\ttotal: 193ms\tremaining: 4.62s\n",
      "40:\tlearn: 0.2851503\ttotal: 195ms\tremaining: 4.57s\n",
      "41:\tlearn: 0.2835811\ttotal: 198ms\tremaining: 4.52s\n",
      "42:\tlearn: 0.2817099\ttotal: 201ms\tremaining: 4.48s\n",
      "43:\tlearn: 0.2803319\ttotal: 207ms\tremaining: 4.5s\n",
      "44:\tlearn: 0.2785966\ttotal: 213ms\tremaining: 4.53s\n",
      "45:\tlearn: 0.2770274\ttotal: 216ms\tremaining: 4.48s\n",
      "46:\tlearn: 0.2751409\ttotal: 219ms\tremaining: 4.43s\n",
      "47:\tlearn: 0.2731835\ttotal: 221ms\tremaining: 4.39s\n",
      "48:\tlearn: 0.2713891\ttotal: 226ms\tremaining: 4.38s\n",
      "49:\tlearn: 0.2696330\ttotal: 228ms\tremaining: 4.34s\n",
      "50:\tlearn: 0.2682821\ttotal: 231ms\tremaining: 4.3s\n",
      "51:\tlearn: 0.2675671\ttotal: 233ms\tremaining: 4.26s\n",
      "52:\tlearn: 0.2664015\ttotal: 236ms\tremaining: 4.22s\n",
      "53:\tlearn: 0.2649588\ttotal: 239ms\tremaining: 4.19s\n",
      "54:\tlearn: 0.2633842\ttotal: 242ms\tremaining: 4.15s\n",
      "55:\tlearn: 0.2620453\ttotal: 245ms\tremaining: 4.12s\n",
      "56:\tlearn: 0.2606597\ttotal: 247ms\tremaining: 4.09s\n",
      "57:\tlearn: 0.2598461\ttotal: 250ms\tremaining: 4.06s\n",
      "58:\tlearn: 0.2585746\ttotal: 253ms\tremaining: 4.03s\n",
      "59:\tlearn: 0.2577024\ttotal: 256ms\tremaining: 4s\n",
      "60:\tlearn: 0.2566655\ttotal: 259ms\tremaining: 3.98s\n",
      "61:\tlearn: 0.2559070\ttotal: 261ms\tremaining: 3.95s\n",
      "62:\tlearn: 0.2546409\ttotal: 264ms\tremaining: 3.93s\n",
      "63:\tlearn: 0.2535578\ttotal: 267ms\tremaining: 3.9s\n",
      "64:\tlearn: 0.2525644\ttotal: 269ms\tremaining: 3.87s\n",
      "65:\tlearn: 0.2517130\ttotal: 272ms\tremaining: 3.85s\n",
      "66:\tlearn: 0.2507964\ttotal: 275ms\tremaining: 3.83s\n",
      "67:\tlearn: 0.2499362\ttotal: 278ms\tremaining: 3.81s\n",
      "68:\tlearn: 0.2492179\ttotal: 281ms\tremaining: 3.79s\n",
      "69:\tlearn: 0.2485077\ttotal: 283ms\tremaining: 3.76s\n",
      "70:\tlearn: 0.2477259\ttotal: 286ms\tremaining: 3.74s\n",
      "71:\tlearn: 0.2470066\ttotal: 289ms\tremaining: 3.72s\n",
      "72:\tlearn: 0.2463490\ttotal: 292ms\tremaining: 3.7s\n",
      "73:\tlearn: 0.2456861\ttotal: 295ms\tremaining: 3.69s\n",
      "74:\tlearn: 0.2451304\ttotal: 298ms\tremaining: 3.67s\n",
      "75:\tlearn: 0.2443663\ttotal: 300ms\tremaining: 3.65s\n",
      "76:\tlearn: 0.2437762\ttotal: 303ms\tremaining: 3.64s\n",
      "77:\tlearn: 0.2433367\ttotal: 306ms\tremaining: 3.62s\n",
      "78:\tlearn: 0.2425991\ttotal: 310ms\tremaining: 3.61s\n",
      "79:\tlearn: 0.2419165\ttotal: 312ms\tremaining: 3.59s\n",
      "80:\tlearn: 0.2412283\ttotal: 315ms\tremaining: 3.58s\n",
      "81:\tlearn: 0.2405612\ttotal: 318ms\tremaining: 3.56s\n",
      "82:\tlearn: 0.2401391\ttotal: 321ms\tremaining: 3.54s\n",
      "83:\tlearn: 0.2395519\ttotal: 324ms\tremaining: 3.53s\n",
      "84:\tlearn: 0.2390886\ttotal: 327ms\tremaining: 3.52s\n",
      "85:\tlearn: 0.2385448\ttotal: 331ms\tremaining: 3.52s\n",
      "86:\tlearn: 0.2381368\ttotal: 336ms\tremaining: 3.52s\n",
      "87:\tlearn: 0.2375486\ttotal: 338ms\tremaining: 3.51s\n",
      "88:\tlearn: 0.2371370\ttotal: 343ms\tremaining: 3.5s\n",
      "89:\tlearn: 0.2366960\ttotal: 345ms\tremaining: 3.49s\n",
      "90:\tlearn: 0.2363925\ttotal: 349ms\tremaining: 3.48s\n",
      "91:\tlearn: 0.2359605\ttotal: 352ms\tremaining: 3.47s\n",
      "92:\tlearn: 0.2355598\ttotal: 354ms\tremaining: 3.46s\n",
      "93:\tlearn: 0.2352256\ttotal: 358ms\tremaining: 3.45s\n",
      "94:\tlearn: 0.2348696\ttotal: 361ms\tremaining: 3.44s\n",
      "95:\tlearn: 0.2345016\ttotal: 366ms\tremaining: 3.44s\n",
      "96:\tlearn: 0.2341442\ttotal: 368ms\tremaining: 3.43s\n",
      "97:\tlearn: 0.2338817\ttotal: 372ms\tremaining: 3.42s\n",
      "98:\tlearn: 0.2334703\ttotal: 375ms\tremaining: 3.41s\n",
      "99:\tlearn: 0.2330700\ttotal: 381ms\tremaining: 3.43s\n",
      "100:\tlearn: 0.2327445\ttotal: 384ms\tremaining: 3.41s\n",
      "101:\tlearn: 0.2323355\ttotal: 387ms\tremaining: 3.41s\n",
      "102:\tlearn: 0.2320587\ttotal: 395ms\tremaining: 3.44s\n",
      "103:\tlearn: 0.2317550\ttotal: 399ms\tremaining: 3.44s\n",
      "104:\tlearn: 0.2314260\ttotal: 403ms\tremaining: 3.43s\n",
      "105:\tlearn: 0.2311553\ttotal: 405ms\tremaining: 3.42s\n",
      "106:\tlearn: 0.2308368\ttotal: 408ms\tremaining: 3.4s\n",
      "107:\tlearn: 0.2305382\ttotal: 412ms\tremaining: 3.4s\n",
      "108:\tlearn: 0.2303597\ttotal: 414ms\tremaining: 3.39s\n",
      "109:\tlearn: 0.2300717\ttotal: 418ms\tremaining: 3.38s\n",
      "110:\tlearn: 0.2297594\ttotal: 421ms\tremaining: 3.37s\n",
      "111:\tlearn: 0.2294323\ttotal: 424ms\tremaining: 3.36s\n",
      "112:\tlearn: 0.2291179\ttotal: 427ms\tremaining: 3.35s\n",
      "113:\tlearn: 0.2288095\ttotal: 430ms\tremaining: 3.34s\n",
      "114:\tlearn: 0.2286251\ttotal: 433ms\tremaining: 3.33s\n",
      "115:\tlearn: 0.2283745\ttotal: 436ms\tremaining: 3.32s\n",
      "116:\tlearn: 0.2281470\ttotal: 439ms\tremaining: 3.31s\n",
      "117:\tlearn: 0.2279144\ttotal: 442ms\tremaining: 3.3s\n",
      "118:\tlearn: 0.2277409\ttotal: 445ms\tremaining: 3.29s\n",
      "119:\tlearn: 0.2275987\ttotal: 447ms\tremaining: 3.28s\n",
      "120:\tlearn: 0.2273292\ttotal: 450ms\tremaining: 3.27s\n",
      "121:\tlearn: 0.2270090\ttotal: 453ms\tremaining: 3.26s\n",
      "122:\tlearn: 0.2268406\ttotal: 456ms\tremaining: 3.25s\n",
      "123:\tlearn: 0.2266009\ttotal: 458ms\tremaining: 3.24s\n",
      "124:\tlearn: 0.2264257\ttotal: 462ms\tremaining: 3.23s\n",
      "125:\tlearn: 0.2261747\ttotal: 466ms\tremaining: 3.23s\n",
      "126:\tlearn: 0.2259975\ttotal: 470ms\tremaining: 3.23s\n",
      "127:\tlearn: 0.2257478\ttotal: 474ms\tremaining: 3.23s\n",
      "128:\tlearn: 0.2255705\ttotal: 477ms\tremaining: 3.22s\n",
      "129:\tlearn: 0.2253210\ttotal: 479ms\tremaining: 3.21s\n",
      "130:\tlearn: 0.2250735\ttotal: 482ms\tremaining: 3.2s\n",
      "131:\tlearn: 0.2248091\ttotal: 485ms\tremaining: 3.19s\n",
      "132:\tlearn: 0.2246711\ttotal: 488ms\tremaining: 3.18s\n",
      "133:\tlearn: 0.2244816\ttotal: 491ms\tremaining: 3.17s\n",
      "134:\tlearn: 0.2242864\ttotal: 494ms\tremaining: 3.16s\n",
      "135:\tlearn: 0.2242711\ttotal: 496ms\tremaining: 3.15s\n",
      "136:\tlearn: 0.2240946\ttotal: 499ms\tremaining: 3.14s\n",
      "137:\tlearn: 0.2239911\ttotal: 501ms\tremaining: 3.13s\n",
      "138:\tlearn: 0.2238302\ttotal: 504ms\tremaining: 3.12s\n",
      "139:\tlearn: 0.2236235\ttotal: 507ms\tremaining: 3.11s\n",
      "140:\tlearn: 0.2234560\ttotal: 509ms\tremaining: 3.1s\n",
      "141:\tlearn: 0.2232837\ttotal: 512ms\tremaining: 3.09s\n",
      "142:\tlearn: 0.2230860\ttotal: 515ms\tremaining: 3.08s\n",
      "143:\tlearn: 0.2229530\ttotal: 518ms\tremaining: 3.08s\n",
      "144:\tlearn: 0.2227520\ttotal: 521ms\tremaining: 3.07s\n",
      "145:\tlearn: 0.2224882\ttotal: 523ms\tremaining: 3.06s\n",
      "146:\tlearn: 0.2222766\ttotal: 526ms\tremaining: 3.05s\n",
      "147:\tlearn: 0.2221144\ttotal: 529ms\tremaining: 3.04s\n",
      "148:\tlearn: 0.2218716\ttotal: 532ms\tremaining: 3.04s\n",
      "149:\tlearn: 0.2216975\ttotal: 534ms\tremaining: 3.03s\n",
      "150:\tlearn: 0.2215287\ttotal: 537ms\tremaining: 3.02s\n",
      "151:\tlearn: 0.2213540\ttotal: 540ms\tremaining: 3.01s\n",
      "152:\tlearn: 0.2212171\ttotal: 543ms\tremaining: 3s\n",
      "153:\tlearn: 0.2210411\ttotal: 546ms\tremaining: 3s\n",
      "154:\tlearn: 0.2208046\ttotal: 548ms\tremaining: 2.99s\n",
      "155:\tlearn: 0.2205959\ttotal: 551ms\tremaining: 2.98s\n",
      "156:\tlearn: 0.2204684\ttotal: 554ms\tremaining: 2.97s\n",
      "157:\tlearn: 0.2203365\ttotal: 557ms\tremaining: 2.97s\n",
      "158:\tlearn: 0.2201453\ttotal: 559ms\tremaining: 2.96s\n",
      "159:\tlearn: 0.2199964\ttotal: 562ms\tremaining: 2.95s\n"
     ]
    },
    {
     "name": "stdout",
     "output_type": "stream",
     "text": [
      "160:\tlearn: 0.2197950\ttotal: 565ms\tremaining: 2.94s\n",
      "161:\tlearn: 0.2196029\ttotal: 571ms\tremaining: 2.95s\n",
      "162:\tlearn: 0.2194936\ttotal: 574ms\tremaining: 2.95s\n",
      "163:\tlearn: 0.2194589\ttotal: 579ms\tremaining: 2.95s\n",
      "164:\tlearn: 0.2192822\ttotal: 584ms\tremaining: 2.95s\n",
      "165:\tlearn: 0.2191199\ttotal: 587ms\tremaining: 2.95s\n",
      "166:\tlearn: 0.2189682\ttotal: 589ms\tremaining: 2.94s\n",
      "167:\tlearn: 0.2188277\ttotal: 592ms\tremaining: 2.93s\n",
      "168:\tlearn: 0.2186353\ttotal: 595ms\tremaining: 2.93s\n",
      "169:\tlearn: 0.2184694\ttotal: 598ms\tremaining: 2.92s\n",
      "170:\tlearn: 0.2183130\ttotal: 601ms\tremaining: 2.91s\n",
      "171:\tlearn: 0.2182166\ttotal: 604ms\tremaining: 2.91s\n",
      "172:\tlearn: 0.2180260\ttotal: 607ms\tremaining: 2.9s\n",
      "173:\tlearn: 0.2178447\ttotal: 610ms\tremaining: 2.9s\n",
      "174:\tlearn: 0.2176770\ttotal: 613ms\tremaining: 2.89s\n",
      "175:\tlearn: 0.2175588\ttotal: 616ms\tremaining: 2.88s\n",
      "176:\tlearn: 0.2174268\ttotal: 618ms\tremaining: 2.88s\n",
      "177:\tlearn: 0.2172866\ttotal: 621ms\tremaining: 2.87s\n",
      "178:\tlearn: 0.2171164\ttotal: 624ms\tremaining: 2.86s\n",
      "179:\tlearn: 0.2169537\ttotal: 627ms\tremaining: 2.86s\n",
      "180:\tlearn: 0.2168611\ttotal: 630ms\tremaining: 2.85s\n",
      "181:\tlearn: 0.2166773\ttotal: 633ms\tremaining: 2.84s\n",
      "182:\tlearn: 0.2165690\ttotal: 635ms\tremaining: 2.84s\n",
      "183:\tlearn: 0.2164535\ttotal: 638ms\tremaining: 2.83s\n",
      "184:\tlearn: 0.2162844\ttotal: 641ms\tremaining: 2.82s\n",
      "185:\tlearn: 0.2161745\ttotal: 644ms\tremaining: 2.82s\n",
      "186:\tlearn: 0.2160684\ttotal: 647ms\tremaining: 2.81s\n",
      "187:\tlearn: 0.2158978\ttotal: 650ms\tremaining: 2.81s\n",
      "188:\tlearn: 0.2158166\ttotal: 653ms\tremaining: 2.8s\n",
      "189:\tlearn: 0.2156014\ttotal: 656ms\tremaining: 2.79s\n",
      "190:\tlearn: 0.2154206\ttotal: 659ms\tremaining: 2.79s\n",
      "191:\tlearn: 0.2152891\ttotal: 661ms\tremaining: 2.78s\n",
      "192:\tlearn: 0.2152028\ttotal: 664ms\tremaining: 2.78s\n",
      "193:\tlearn: 0.2150669\ttotal: 667ms\tremaining: 2.77s\n",
      "194:\tlearn: 0.2149458\ttotal: 670ms\tremaining: 2.77s\n",
      "195:\tlearn: 0.2148139\ttotal: 673ms\tremaining: 2.76s\n",
      "196:\tlearn: 0.2147406\ttotal: 676ms\tremaining: 2.75s\n",
      "197:\tlearn: 0.2146390\ttotal: 679ms\tremaining: 2.75s\n",
      "198:\tlearn: 0.2144473\ttotal: 681ms\tremaining: 2.74s\n",
      "199:\tlearn: 0.2142795\ttotal: 684ms\tremaining: 2.74s\n",
      "200:\tlearn: 0.2141625\ttotal: 687ms\tremaining: 2.73s\n",
      "201:\tlearn: 0.2140608\ttotal: 690ms\tremaining: 2.73s\n",
      "202:\tlearn: 0.2139677\ttotal: 693ms\tremaining: 2.72s\n",
      "203:\tlearn: 0.2138360\ttotal: 696ms\tremaining: 2.71s\n",
      "204:\tlearn: 0.2137262\ttotal: 701ms\tremaining: 2.72s\n",
      "205:\tlearn: 0.2135363\ttotal: 706ms\tremaining: 2.72s\n",
      "206:\tlearn: 0.2133709\ttotal: 709ms\tremaining: 2.71s\n",
      "207:\tlearn: 0.2132389\ttotal: 712ms\tremaining: 2.71s\n",
      "208:\tlearn: 0.2131329\ttotal: 715ms\tremaining: 2.71s\n",
      "209:\tlearn: 0.2129450\ttotal: 718ms\tremaining: 2.7s\n",
      "210:\tlearn: 0.2128626\ttotal: 724ms\tremaining: 2.71s\n",
      "211:\tlearn: 0.2128568\ttotal: 728ms\tremaining: 2.71s\n",
      "212:\tlearn: 0.2127160\ttotal: 732ms\tremaining: 2.71s\n",
      "213:\tlearn: 0.2125749\ttotal: 742ms\tremaining: 2.72s\n",
      "214:\tlearn: 0.2124263\ttotal: 747ms\tremaining: 2.73s\n",
      "215:\tlearn: 0.2122567\ttotal: 750ms\tremaining: 2.72s\n",
      "216:\tlearn: 0.2121445\ttotal: 761ms\tremaining: 2.75s\n",
      "217:\tlearn: 0.2119676\ttotal: 765ms\tremaining: 2.74s\n",
      "218:\tlearn: 0.2118194\ttotal: 775ms\tremaining: 2.76s\n",
      "219:\tlearn: 0.2116955\ttotal: 780ms\tremaining: 2.77s\n",
      "220:\tlearn: 0.2115723\ttotal: 788ms\tremaining: 2.78s\n",
      "221:\tlearn: 0.2114227\ttotal: 794ms\tremaining: 2.78s\n",
      "222:\tlearn: 0.2113131\ttotal: 797ms\tremaining: 2.77s\n",
      "223:\tlearn: 0.2111447\ttotal: 807ms\tremaining: 2.79s\n",
      "224:\tlearn: 0.2110108\ttotal: 810ms\tremaining: 2.79s\n",
      "225:\tlearn: 0.2108887\ttotal: 814ms\tremaining: 2.79s\n",
      "226:\tlearn: 0.2107363\ttotal: 819ms\tremaining: 2.79s\n",
      "227:\tlearn: 0.2105452\ttotal: 822ms\tremaining: 2.78s\n",
      "228:\tlearn: 0.2104775\ttotal: 825ms\tremaining: 2.78s\n",
      "229:\tlearn: 0.2103388\ttotal: 828ms\tremaining: 2.77s\n",
      "230:\tlearn: 0.2102073\ttotal: 834ms\tremaining: 2.77s\n",
      "231:\tlearn: 0.2101262\ttotal: 837ms\tremaining: 2.77s\n",
      "232:\tlearn: 0.2100302\ttotal: 840ms\tremaining: 2.76s\n",
      "233:\tlearn: 0.2099594\ttotal: 842ms\tremaining: 2.76s\n",
      "234:\tlearn: 0.2099002\ttotal: 847ms\tremaining: 2.76s\n",
      "235:\tlearn: 0.2097302\ttotal: 850ms\tremaining: 2.75s\n",
      "236:\tlearn: 0.2095686\ttotal: 855ms\tremaining: 2.75s\n",
      "237:\tlearn: 0.2094799\ttotal: 857ms\tremaining: 2.74s\n",
      "238:\tlearn: 0.2093547\ttotal: 861ms\tremaining: 2.74s\n",
      "239:\tlearn: 0.2092518\ttotal: 865ms\tremaining: 2.74s\n",
      "240:\tlearn: 0.2091184\ttotal: 869ms\tremaining: 2.74s\n",
      "241:\tlearn: 0.2090318\ttotal: 872ms\tremaining: 2.73s\n",
      "242:\tlearn: 0.2089212\ttotal: 875ms\tremaining: 2.73s\n",
      "243:\tlearn: 0.2087244\ttotal: 880ms\tremaining: 2.73s\n",
      "244:\tlearn: 0.2086507\ttotal: 885ms\tremaining: 2.73s\n",
      "245:\tlearn: 0.2085219\ttotal: 888ms\tremaining: 2.72s\n",
      "246:\tlearn: 0.2084169\ttotal: 892ms\tremaining: 2.72s\n",
      "247:\tlearn: 0.2082832\ttotal: 896ms\tremaining: 2.72s\n",
      "248:\tlearn: 0.2081777\ttotal: 900ms\tremaining: 2.71s\n",
      "249:\tlearn: 0.2080476\ttotal: 904ms\tremaining: 2.71s\n",
      "250:\tlearn: 0.2079377\ttotal: 907ms\tremaining: 2.71s\n",
      "251:\tlearn: 0.2078146\ttotal: 910ms\tremaining: 2.7s\n",
      "252:\tlearn: 0.2077966\ttotal: 912ms\tremaining: 2.69s\n",
      "253:\tlearn: 0.2077136\ttotal: 915ms\tremaining: 2.69s\n",
      "254:\tlearn: 0.2076038\ttotal: 918ms\tremaining: 2.68s\n",
      "255:\tlearn: 0.2075103\ttotal: 921ms\tremaining: 2.68s\n",
      "256:\tlearn: 0.2074149\ttotal: 924ms\tremaining: 2.67s\n",
      "257:\tlearn: 0.2073218\ttotal: 926ms\tremaining: 2.66s\n",
      "258:\tlearn: 0.2071818\ttotal: 930ms\tremaining: 2.66s\n",
      "259:\tlearn: 0.2071238\ttotal: 933ms\tremaining: 2.65s\n",
      "260:\tlearn: 0.2070012\ttotal: 937ms\tremaining: 2.65s\n",
      "261:\tlearn: 0.2068801\ttotal: 943ms\tremaining: 2.66s\n",
      "262:\tlearn: 0.2067818\ttotal: 947ms\tremaining: 2.65s\n",
      "263:\tlearn: 0.2066693\ttotal: 951ms\tremaining: 2.65s\n",
      "264:\tlearn: 0.2066060\ttotal: 957ms\tremaining: 2.65s\n",
      "265:\tlearn: 0.2064906\ttotal: 963ms\tremaining: 2.66s\n",
      "266:\tlearn: 0.2064153\ttotal: 968ms\tremaining: 2.66s\n",
      "267:\tlearn: 0.2063284\ttotal: 972ms\tremaining: 2.65s\n",
      "268:\tlearn: 0.2062518\ttotal: 976ms\tremaining: 2.65s\n",
      "269:\tlearn: 0.2061230\ttotal: 980ms\tremaining: 2.65s\n",
      "270:\tlearn: 0.2060408\ttotal: 984ms\tremaining: 2.65s\n",
      "271:\tlearn: 0.2059687\ttotal: 989ms\tremaining: 2.65s\n",
      "272:\tlearn: 0.2058879\ttotal: 993ms\tremaining: 2.64s\n",
      "273:\tlearn: 0.2057707\ttotal: 996ms\tremaining: 2.64s\n",
      "274:\tlearn: 0.2056858\ttotal: 998ms\tremaining: 2.63s\n",
      "275:\tlearn: 0.2056250\ttotal: 1s\tremaining: 2.63s\n",
      "276:\tlearn: 0.2055728\ttotal: 1s\tremaining: 2.62s\n",
      "277:\tlearn: 0.2054895\ttotal: 1.01s\tremaining: 2.61s\n",
      "278:\tlearn: 0.2053670\ttotal: 1.01s\tremaining: 2.61s\n",
      "279:\tlearn: 0.2052688\ttotal: 1.01s\tremaining: 2.6s\n",
      "280:\tlearn: 0.2051354\ttotal: 1.01s\tremaining: 2.6s\n",
      "281:\tlearn: 0.2050460\ttotal: 1.02s\tremaining: 2.59s\n",
      "282:\tlearn: 0.2049674\ttotal: 1.02s\tremaining: 2.58s\n",
      "283:\tlearn: 0.2049067\ttotal: 1.02s\tremaining: 2.58s\n",
      "284:\tlearn: 0.2048397\ttotal: 1.03s\tremaining: 2.57s\n",
      "285:\tlearn: 0.2048061\ttotal: 1.03s\tremaining: 2.57s\n",
      "286:\tlearn: 0.2047441\ttotal: 1.03s\tremaining: 2.56s\n",
      "287:\tlearn: 0.2046410\ttotal: 1.03s\tremaining: 2.56s\n",
      "288:\tlearn: 0.2045369\ttotal: 1.04s\tremaining: 2.55s\n",
      "289:\tlearn: 0.2044094\ttotal: 1.04s\tremaining: 2.55s\n",
      "290:\tlearn: 0.2042926\ttotal: 1.04s\tremaining: 2.54s\n",
      "291:\tlearn: 0.2041723\ttotal: 1.05s\tremaining: 2.54s\n",
      "292:\tlearn: 0.2040901\ttotal: 1.05s\tremaining: 2.53s\n",
      "293:\tlearn: 0.2039697\ttotal: 1.05s\tremaining: 2.53s\n",
      "294:\tlearn: 0.2038462\ttotal: 1.05s\tremaining: 2.52s\n",
      "295:\tlearn: 0.2037148\ttotal: 1.06s\tremaining: 2.52s\n",
      "296:\tlearn: 0.2036634\ttotal: 1.06s\tremaining: 2.51s\n",
      "297:\tlearn: 0.2036279\ttotal: 1.06s\tremaining: 2.5s\n",
      "298:\tlearn: 0.2035796\ttotal: 1.06s\tremaining: 2.5s\n",
      "299:\tlearn: 0.2034670\ttotal: 1.07s\tremaining: 2.49s\n",
      "300:\tlearn: 0.2034018\ttotal: 1.07s\tremaining: 2.49s\n",
      "301:\tlearn: 0.2033246\ttotal: 1.07s\tremaining: 2.48s\n",
      "302:\tlearn: 0.2032496\ttotal: 1.08s\tremaining: 2.48s\n",
      "303:\tlearn: 0.2031323\ttotal: 1.08s\tremaining: 2.47s\n",
      "304:\tlearn: 0.2030175\ttotal: 1.08s\tremaining: 2.46s\n",
      "305:\tlearn: 0.2029042\ttotal: 1.08s\tremaining: 2.46s\n",
      "306:\tlearn: 0.2028392\ttotal: 1.09s\tremaining: 2.45s\n",
      "307:\tlearn: 0.2027951\ttotal: 1.09s\tremaining: 2.45s\n",
      "308:\tlearn: 0.2027073\ttotal: 1.09s\tremaining: 2.44s\n",
      "309:\tlearn: 0.2025981\ttotal: 1.09s\tremaining: 2.44s\n",
      "310:\tlearn: 0.2025311\ttotal: 1.1s\tremaining: 2.43s\n",
      "311:\tlearn: 0.2024539\ttotal: 1.1s\tremaining: 2.43s\n",
      "312:\tlearn: 0.2023714\ttotal: 1.1s\tremaining: 2.42s\n",
      "313:\tlearn: 0.2023102\ttotal: 1.11s\tremaining: 2.42s\n",
      "314:\tlearn: 0.2022133\ttotal: 1.11s\tremaining: 2.41s\n",
      "315:\tlearn: 0.2021405\ttotal: 1.11s\tremaining: 2.41s\n",
      "316:\tlearn: 0.2020041\ttotal: 1.11s\tremaining: 2.4s\n",
      "317:\tlearn: 0.2019202\ttotal: 1.12s\tremaining: 2.4s\n",
      "318:\tlearn: 0.2018206\ttotal: 1.12s\tremaining: 2.39s\n",
      "319:\tlearn: 0.2017641\ttotal: 1.12s\tremaining: 2.39s\n",
      "320:\tlearn: 0.2016535\ttotal: 1.13s\tremaining: 2.38s\n",
      "321:\tlearn: 0.2015870\ttotal: 1.13s\tremaining: 2.38s\n",
      "322:\tlearn: 0.2014775\ttotal: 1.13s\tremaining: 2.37s\n",
      "323:\tlearn: 0.2013826\ttotal: 1.14s\tremaining: 2.37s\n",
      "324:\tlearn: 0.2012613\ttotal: 1.14s\tremaining: 2.36s\n",
      "325:\tlearn: 0.2011548\ttotal: 1.14s\tremaining: 2.36s\n",
      "326:\tlearn: 0.2010555\ttotal: 1.14s\tremaining: 2.35s\n"
     ]
    },
    {
     "name": "stdout",
     "output_type": "stream",
     "text": [
      "327:\tlearn: 0.2009825\ttotal: 1.15s\tremaining: 2.35s\n",
      "328:\tlearn: 0.2008875\ttotal: 1.15s\tremaining: 2.35s\n",
      "329:\tlearn: 0.2007943\ttotal: 1.16s\tremaining: 2.35s\n",
      "330:\tlearn: 0.2006783\ttotal: 1.16s\tremaining: 2.34s\n",
      "331:\tlearn: 0.2005697\ttotal: 1.16s\tremaining: 2.34s\n",
      "332:\tlearn: 0.2005503\ttotal: 1.17s\tremaining: 2.34s\n",
      "333:\tlearn: 0.2004813\ttotal: 1.17s\tremaining: 2.33s\n",
      "334:\tlearn: 0.2003674\ttotal: 1.17s\tremaining: 2.33s\n",
      "335:\tlearn: 0.2002951\ttotal: 1.18s\tremaining: 2.32s\n",
      "336:\tlearn: 0.2002329\ttotal: 1.18s\tremaining: 2.32s\n",
      "337:\tlearn: 0.2001314\ttotal: 1.18s\tremaining: 2.31s\n",
      "338:\tlearn: 0.2000358\ttotal: 1.18s\tremaining: 2.31s\n",
      "339:\tlearn: 0.1999727\ttotal: 1.19s\tremaining: 2.31s\n",
      "340:\tlearn: 0.1999300\ttotal: 1.19s\tremaining: 2.3s\n",
      "341:\tlearn: 0.1998315\ttotal: 1.2s\tremaining: 2.3s\n",
      "342:\tlearn: 0.1997456\ttotal: 1.2s\tremaining: 2.29s\n",
      "343:\tlearn: 0.1996382\ttotal: 1.2s\tremaining: 2.29s\n",
      "344:\tlearn: 0.1995711\ttotal: 1.2s\tremaining: 2.29s\n",
      "345:\tlearn: 0.1994977\ttotal: 1.21s\tremaining: 2.28s\n",
      "346:\tlearn: 0.1994282\ttotal: 1.21s\tremaining: 2.28s\n",
      "347:\tlearn: 0.1993348\ttotal: 1.21s\tremaining: 2.27s\n",
      "348:\tlearn: 0.1992726\ttotal: 1.22s\tremaining: 2.27s\n",
      "349:\tlearn: 0.1991777\ttotal: 1.22s\tremaining: 2.27s\n",
      "350:\tlearn: 0.1990582\ttotal: 1.23s\tremaining: 2.27s\n",
      "351:\tlearn: 0.1989520\ttotal: 1.23s\tremaining: 2.26s\n",
      "352:\tlearn: 0.1988989\ttotal: 1.23s\tremaining: 2.26s\n",
      "353:\tlearn: 0.1987903\ttotal: 1.24s\tremaining: 2.25s\n",
      "354:\tlearn: 0.1987349\ttotal: 1.24s\tremaining: 2.25s\n",
      "355:\tlearn: 0.1986720\ttotal: 1.24s\tremaining: 2.25s\n",
      "356:\tlearn: 0.1985635\ttotal: 1.25s\tremaining: 2.24s\n",
      "357:\tlearn: 0.1984535\ttotal: 1.25s\tremaining: 2.24s\n",
      "358:\tlearn: 0.1983543\ttotal: 1.25s\tremaining: 2.24s\n",
      "359:\tlearn: 0.1982912\ttotal: 1.26s\tremaining: 2.23s\n",
      "360:\tlearn: 0.1981912\ttotal: 1.26s\tremaining: 2.23s\n",
      "361:\tlearn: 0.1980921\ttotal: 1.26s\tremaining: 2.23s\n",
      "362:\tlearn: 0.1979741\ttotal: 1.27s\tremaining: 2.22s\n",
      "363:\tlearn: 0.1979052\ttotal: 1.27s\tremaining: 2.22s\n",
      "364:\tlearn: 0.1977999\ttotal: 1.27s\tremaining: 2.22s\n",
      "365:\tlearn: 0.1977390\ttotal: 1.28s\tremaining: 2.21s\n",
      "366:\tlearn: 0.1976457\ttotal: 1.28s\tremaining: 2.21s\n",
      "367:\tlearn: 0.1975270\ttotal: 1.28s\tremaining: 2.21s\n",
      "368:\tlearn: 0.1974648\ttotal: 1.29s\tremaining: 2.2s\n",
      "369:\tlearn: 0.1974043\ttotal: 1.29s\tremaining: 2.2s\n",
      "370:\tlearn: 0.1973450\ttotal: 1.29s\tremaining: 2.19s\n",
      "371:\tlearn: 0.1972313\ttotal: 1.3s\tremaining: 2.19s\n",
      "372:\tlearn: 0.1971651\ttotal: 1.3s\tremaining: 2.19s\n",
      "373:\tlearn: 0.1970391\ttotal: 1.3s\tremaining: 2.18s\n",
      "374:\tlearn: 0.1969523\ttotal: 1.3s\tremaining: 2.18s\n",
      "375:\tlearn: 0.1968836\ttotal: 1.31s\tremaining: 2.17s\n",
      "376:\tlearn: 0.1968050\ttotal: 1.31s\tremaining: 2.17s\n",
      "377:\tlearn: 0.1967528\ttotal: 1.31s\tremaining: 2.16s\n",
      "378:\tlearn: 0.1966710\ttotal: 1.32s\tremaining: 2.16s\n",
      "379:\tlearn: 0.1965960\ttotal: 1.32s\tremaining: 2.15s\n",
      "380:\tlearn: 0.1964768\ttotal: 1.32s\tremaining: 2.15s\n",
      "381:\tlearn: 0.1964071\ttotal: 1.32s\tremaining: 2.14s\n",
      "382:\tlearn: 0.1963039\ttotal: 1.33s\tremaining: 2.14s\n",
      "383:\tlearn: 0.1961895\ttotal: 1.33s\tremaining: 2.13s\n",
      "384:\tlearn: 0.1961049\ttotal: 1.33s\tremaining: 2.13s\n",
      "385:\tlearn: 0.1960175\ttotal: 1.34s\tremaining: 2.13s\n",
      "386:\tlearn: 0.1959615\ttotal: 1.34s\tremaining: 2.13s\n",
      "387:\tlearn: 0.1958973\ttotal: 1.34s\tremaining: 2.12s\n",
      "388:\tlearn: 0.1957613\ttotal: 1.35s\tremaining: 2.12s\n",
      "389:\tlearn: 0.1956851\ttotal: 1.35s\tremaining: 2.12s\n",
      "390:\tlearn: 0.1956151\ttotal: 1.36s\tremaining: 2.11s\n",
      "391:\tlearn: 0.1955261\ttotal: 1.36s\tremaining: 2.11s\n",
      "392:\tlearn: 0.1954822\ttotal: 1.36s\tremaining: 2.1s\n",
      "393:\tlearn: 0.1953485\ttotal: 1.37s\tremaining: 2.1s\n",
      "394:\tlearn: 0.1952516\ttotal: 1.37s\tremaining: 2.1s\n",
      "395:\tlearn: 0.1951139\ttotal: 1.37s\tremaining: 2.09s\n",
      "396:\tlearn: 0.1950306\ttotal: 1.38s\tremaining: 2.09s\n",
      "397:\tlearn: 0.1949622\ttotal: 1.38s\tremaining: 2.08s\n",
      "398:\tlearn: 0.1948904\ttotal: 1.38s\tremaining: 2.08s\n",
      "399:\tlearn: 0.1948494\ttotal: 1.38s\tremaining: 2.08s\n",
      "400:\tlearn: 0.1947607\ttotal: 1.39s\tremaining: 2.07s\n",
      "401:\tlearn: 0.1947210\ttotal: 1.39s\tremaining: 2.07s\n",
      "402:\tlearn: 0.1946399\ttotal: 1.39s\tremaining: 2.06s\n",
      "403:\tlearn: 0.1945445\ttotal: 1.4s\tremaining: 2.06s\n",
      "404:\tlearn: 0.1944301\ttotal: 1.4s\tremaining: 2.05s\n",
      "405:\tlearn: 0.1943395\ttotal: 1.4s\tremaining: 2.05s\n",
      "406:\tlearn: 0.1942326\ttotal: 1.4s\tremaining: 2.04s\n",
      "407:\tlearn: 0.1941407\ttotal: 1.41s\tremaining: 2.04s\n",
      "408:\tlearn: 0.1940736\ttotal: 1.41s\tremaining: 2.04s\n",
      "409:\tlearn: 0.1939938\ttotal: 1.42s\tremaining: 2.04s\n",
      "410:\tlearn: 0.1939579\ttotal: 1.42s\tremaining: 2.03s\n",
      "411:\tlearn: 0.1939154\ttotal: 1.42s\tremaining: 2.03s\n",
      "412:\tlearn: 0.1938514\ttotal: 1.43s\tremaining: 2.02s\n",
      "413:\tlearn: 0.1938164\ttotal: 1.43s\tremaining: 2.02s\n",
      "414:\tlearn: 0.1937498\ttotal: 1.43s\tremaining: 2.02s\n",
      "415:\tlearn: 0.1936445\ttotal: 1.43s\tremaining: 2.01s\n",
      "416:\tlearn: 0.1936012\ttotal: 1.44s\tremaining: 2.01s\n",
      "417:\tlearn: 0.1935204\ttotal: 1.44s\tremaining: 2.01s\n",
      "418:\tlearn: 0.1934148\ttotal: 1.44s\tremaining: 2s\n",
      "419:\tlearn: 0.1933412\ttotal: 1.45s\tremaining: 2s\n",
      "420:\tlearn: 0.1932702\ttotal: 1.45s\tremaining: 2s\n",
      "421:\tlearn: 0.1932137\ttotal: 1.45s\tremaining: 1.99s\n",
      "422:\tlearn: 0.1931216\ttotal: 1.46s\tremaining: 1.99s\n",
      "423:\tlearn: 0.1930429\ttotal: 1.46s\tremaining: 1.98s\n",
      "424:\tlearn: 0.1929564\ttotal: 1.46s\tremaining: 1.98s\n",
      "425:\tlearn: 0.1928303\ttotal: 1.47s\tremaining: 1.98s\n",
      "426:\tlearn: 0.1927445\ttotal: 1.47s\tremaining: 1.97s\n",
      "427:\tlearn: 0.1926999\ttotal: 1.47s\tremaining: 1.97s\n",
      "428:\tlearn: 0.1926729\ttotal: 1.48s\tremaining: 1.97s\n",
      "429:\tlearn: 0.1925618\ttotal: 1.48s\tremaining: 1.96s\n",
      "430:\tlearn: 0.1925091\ttotal: 1.48s\tremaining: 1.96s\n",
      "431:\tlearn: 0.1924811\ttotal: 1.49s\tremaining: 1.95s\n",
      "432:\tlearn: 0.1923688\ttotal: 1.49s\tremaining: 1.95s\n",
      "433:\tlearn: 0.1923350\ttotal: 1.49s\tremaining: 1.95s\n",
      "434:\tlearn: 0.1922557\ttotal: 1.5s\tremaining: 1.94s\n",
      "435:\tlearn: 0.1921774\ttotal: 1.5s\tremaining: 1.94s\n",
      "436:\tlearn: 0.1920972\ttotal: 1.5s\tremaining: 1.94s\n",
      "437:\tlearn: 0.1920091\ttotal: 1.51s\tremaining: 1.94s\n",
      "438:\tlearn: 0.1919470\ttotal: 1.51s\tremaining: 1.93s\n",
      "439:\tlearn: 0.1918822\ttotal: 1.51s\tremaining: 1.93s\n",
      "440:\tlearn: 0.1917766\ttotal: 1.52s\tremaining: 1.93s\n",
      "441:\tlearn: 0.1917288\ttotal: 1.52s\tremaining: 1.92s\n",
      "442:\tlearn: 0.1916518\ttotal: 1.53s\tremaining: 1.92s\n",
      "443:\tlearn: 0.1915846\ttotal: 1.53s\tremaining: 1.92s\n",
      "444:\tlearn: 0.1915243\ttotal: 1.54s\tremaining: 1.92s\n",
      "445:\tlearn: 0.1914833\ttotal: 1.54s\tremaining: 1.92s\n",
      "446:\tlearn: 0.1913524\ttotal: 1.55s\tremaining: 1.91s\n",
      "447:\tlearn: 0.1912361\ttotal: 1.55s\tremaining: 1.91s\n",
      "448:\tlearn: 0.1911505\ttotal: 1.55s\tremaining: 1.91s\n",
      "449:\tlearn: 0.1910735\ttotal: 1.56s\tremaining: 1.9s\n",
      "450:\tlearn: 0.1909723\ttotal: 1.56s\tremaining: 1.9s\n",
      "451:\tlearn: 0.1909011\ttotal: 1.56s\tremaining: 1.9s\n",
      "452:\tlearn: 0.1908421\ttotal: 1.57s\tremaining: 1.9s\n",
      "453:\tlearn: 0.1907656\ttotal: 1.57s\tremaining: 1.89s\n",
      "454:\tlearn: 0.1907034\ttotal: 1.58s\tremaining: 1.89s\n",
      "455:\tlearn: 0.1906315\ttotal: 1.58s\tremaining: 1.88s\n",
      "456:\tlearn: 0.1905622\ttotal: 1.58s\tremaining: 1.88s\n",
      "457:\tlearn: 0.1904733\ttotal: 1.59s\tremaining: 1.88s\n",
      "458:\tlearn: 0.1904203\ttotal: 1.59s\tremaining: 1.88s\n",
      "459:\tlearn: 0.1903619\ttotal: 1.59s\tremaining: 1.87s\n",
      "460:\tlearn: 0.1902639\ttotal: 1.6s\tremaining: 1.87s\n",
      "461:\tlearn: 0.1901572\ttotal: 1.6s\tremaining: 1.87s\n",
      "462:\tlearn: 0.1900712\ttotal: 1.61s\tremaining: 1.86s\n",
      "463:\tlearn: 0.1899987\ttotal: 1.61s\tremaining: 1.86s\n",
      "464:\tlearn: 0.1899487\ttotal: 1.62s\tremaining: 1.86s\n",
      "465:\tlearn: 0.1898541\ttotal: 1.62s\tremaining: 1.86s\n",
      "466:\tlearn: 0.1897562\ttotal: 1.62s\tremaining: 1.85s\n",
      "467:\tlearn: 0.1896988\ttotal: 1.63s\tremaining: 1.85s\n",
      "468:\tlearn: 0.1896475\ttotal: 1.63s\tremaining: 1.85s\n",
      "469:\tlearn: 0.1895885\ttotal: 1.64s\tremaining: 1.85s\n",
      "470:\tlearn: 0.1895286\ttotal: 1.64s\tremaining: 1.84s\n",
      "471:\tlearn: 0.1895067\ttotal: 1.65s\tremaining: 1.84s\n",
      "472:\tlearn: 0.1894566\ttotal: 1.65s\tremaining: 1.84s\n",
      "473:\tlearn: 0.1893411\ttotal: 1.65s\tremaining: 1.83s\n",
      "474:\tlearn: 0.1892541\ttotal: 1.66s\tremaining: 1.83s\n",
      "475:\tlearn: 0.1891619\ttotal: 1.66s\tremaining: 1.83s\n",
      "476:\tlearn: 0.1890930\ttotal: 1.67s\tremaining: 1.83s\n",
      "477:\tlearn: 0.1890428\ttotal: 1.67s\tremaining: 1.82s\n",
      "478:\tlearn: 0.1889810\ttotal: 1.67s\tremaining: 1.82s\n",
      "479:\tlearn: 0.1889298\ttotal: 1.68s\tremaining: 1.82s\n",
      "480:\tlearn: 0.1888666\ttotal: 1.68s\tremaining: 1.82s\n",
      "481:\tlearn: 0.1887822\ttotal: 1.69s\tremaining: 1.81s\n",
      "482:\tlearn: 0.1887193\ttotal: 1.69s\tremaining: 1.81s\n",
      "483:\tlearn: 0.1886665\ttotal: 1.7s\tremaining: 1.81s\n",
      "484:\tlearn: 0.1886335\ttotal: 1.7s\tremaining: 1.8s\n",
      "485:\tlearn: 0.1885855\ttotal: 1.7s\tremaining: 1.8s\n",
      "486:\tlearn: 0.1885426\ttotal: 1.71s\tremaining: 1.8s\n",
      "487:\tlearn: 0.1884827\ttotal: 1.71s\tremaining: 1.79s\n",
      "488:\tlearn: 0.1884159\ttotal: 1.71s\tremaining: 1.79s\n"
     ]
    },
    {
     "name": "stdout",
     "output_type": "stream",
     "text": [
      "489:\tlearn: 0.1883379\ttotal: 1.72s\tremaining: 1.79s\n",
      "490:\tlearn: 0.1882610\ttotal: 1.73s\tremaining: 1.79s\n",
      "491:\tlearn: 0.1881852\ttotal: 1.74s\tremaining: 1.79s\n",
      "492:\tlearn: 0.1881181\ttotal: 1.74s\tremaining: 1.79s\n",
      "493:\tlearn: 0.1880602\ttotal: 1.75s\tremaining: 1.79s\n",
      "494:\tlearn: 0.1880022\ttotal: 1.75s\tremaining: 1.78s\n",
      "495:\tlearn: 0.1879402\ttotal: 1.75s\tremaining: 1.78s\n",
      "496:\tlearn: 0.1879015\ttotal: 1.76s\tremaining: 1.78s\n",
      "497:\tlearn: 0.1877505\ttotal: 1.76s\tremaining: 1.77s\n",
      "498:\tlearn: 0.1876072\ttotal: 1.76s\tremaining: 1.77s\n",
      "499:\tlearn: 0.1875784\ttotal: 1.77s\tremaining: 1.77s\n",
      "500:\tlearn: 0.1875392\ttotal: 1.77s\tremaining: 1.76s\n",
      "501:\tlearn: 0.1874525\ttotal: 1.77s\tremaining: 1.76s\n",
      "502:\tlearn: 0.1874032\ttotal: 1.77s\tremaining: 1.75s\n",
      "503:\tlearn: 0.1873572\ttotal: 1.78s\tremaining: 1.75s\n",
      "504:\tlearn: 0.1872875\ttotal: 1.78s\tremaining: 1.75s\n",
      "505:\tlearn: 0.1871520\ttotal: 1.78s\tremaining: 1.74s\n",
      "506:\tlearn: 0.1870234\ttotal: 1.79s\tremaining: 1.74s\n",
      "507:\tlearn: 0.1869585\ttotal: 1.79s\tremaining: 1.73s\n",
      "508:\tlearn: 0.1868614\ttotal: 1.79s\tremaining: 1.73s\n",
      "509:\tlearn: 0.1868115\ttotal: 1.8s\tremaining: 1.73s\n",
      "510:\tlearn: 0.1867196\ttotal: 1.8s\tremaining: 1.72s\n",
      "511:\tlearn: 0.1866528\ttotal: 1.8s\tremaining: 1.72s\n",
      "512:\tlearn: 0.1866096\ttotal: 1.81s\tremaining: 1.71s\n",
      "513:\tlearn: 0.1865039\ttotal: 1.81s\tremaining: 1.71s\n",
      "514:\tlearn: 0.1864529\ttotal: 1.81s\tremaining: 1.71s\n",
      "515:\tlearn: 0.1863345\ttotal: 1.82s\tremaining: 1.7s\n",
      "516:\tlearn: 0.1862966\ttotal: 1.82s\tremaining: 1.7s\n",
      "517:\tlearn: 0.1862579\ttotal: 1.82s\tremaining: 1.7s\n",
      "518:\tlearn: 0.1862016\ttotal: 1.82s\tremaining: 1.69s\n",
      "519:\tlearn: 0.1861371\ttotal: 1.83s\tremaining: 1.69s\n",
      "520:\tlearn: 0.1860949\ttotal: 1.83s\tremaining: 1.68s\n",
      "521:\tlearn: 0.1859828\ttotal: 1.84s\tremaining: 1.68s\n",
      "522:\tlearn: 0.1859416\ttotal: 1.84s\tremaining: 1.68s\n",
      "523:\tlearn: 0.1858658\ttotal: 1.84s\tremaining: 1.68s\n",
      "524:\tlearn: 0.1858267\ttotal: 1.85s\tremaining: 1.67s\n",
      "525:\tlearn: 0.1857310\ttotal: 1.85s\tremaining: 1.67s\n",
      "526:\tlearn: 0.1857103\ttotal: 1.85s\tremaining: 1.66s\n",
      "527:\tlearn: 0.1856038\ttotal: 1.86s\tremaining: 1.66s\n",
      "528:\tlearn: 0.1855183\ttotal: 1.86s\tremaining: 1.66s\n",
      "529:\tlearn: 0.1854493\ttotal: 1.86s\tremaining: 1.65s\n",
      "530:\tlearn: 0.1853869\ttotal: 1.87s\tremaining: 1.65s\n",
      "531:\tlearn: 0.1853327\ttotal: 1.87s\tremaining: 1.64s\n",
      "532:\tlearn: 0.1852643\ttotal: 1.87s\tremaining: 1.64s\n",
      "533:\tlearn: 0.1851922\ttotal: 1.88s\tremaining: 1.64s\n",
      "534:\tlearn: 0.1851348\ttotal: 1.88s\tremaining: 1.64s\n",
      "535:\tlearn: 0.1850708\ttotal: 1.89s\tremaining: 1.63s\n",
      "536:\tlearn: 0.1850020\ttotal: 1.89s\tremaining: 1.63s\n",
      "537:\tlearn: 0.1849022\ttotal: 1.89s\tremaining: 1.63s\n",
      "538:\tlearn: 0.1848463\ttotal: 1.9s\tremaining: 1.62s\n",
      "539:\tlearn: 0.1847602\ttotal: 1.9s\tremaining: 1.62s\n",
      "540:\tlearn: 0.1846625\ttotal: 1.9s\tremaining: 1.61s\n",
      "541:\tlearn: 0.1845655\ttotal: 1.9s\tremaining: 1.61s\n",
      "542:\tlearn: 0.1845633\ttotal: 1.91s\tremaining: 1.6s\n",
      "543:\tlearn: 0.1844925\ttotal: 1.91s\tremaining: 1.6s\n",
      "544:\tlearn: 0.1844904\ttotal: 1.92s\tremaining: 1.6s\n",
      "545:\tlearn: 0.1844324\ttotal: 1.92s\tremaining: 1.6s\n",
      "546:\tlearn: 0.1843834\ttotal: 1.92s\tremaining: 1.59s\n",
      "547:\tlearn: 0.1843362\ttotal: 1.93s\tremaining: 1.59s\n",
      "548:\tlearn: 0.1842148\ttotal: 1.93s\tremaining: 1.58s\n",
      "549:\tlearn: 0.1841303\ttotal: 1.93s\tremaining: 1.58s\n",
      "550:\tlearn: 0.1840420\ttotal: 1.93s\tremaining: 1.58s\n",
      "551:\tlearn: 0.1839990\ttotal: 1.94s\tremaining: 1.57s\n",
      "552:\tlearn: 0.1838998\ttotal: 1.94s\tremaining: 1.57s\n",
      "553:\tlearn: 0.1838368\ttotal: 1.95s\tremaining: 1.57s\n",
      "554:\tlearn: 0.1837810\ttotal: 1.95s\tremaining: 1.56s\n",
      "555:\tlearn: 0.1837135\ttotal: 1.95s\tremaining: 1.56s\n",
      "556:\tlearn: 0.1836757\ttotal: 1.96s\tremaining: 1.55s\n",
      "557:\tlearn: 0.1835902\ttotal: 1.96s\tremaining: 1.55s\n",
      "558:\tlearn: 0.1834994\ttotal: 1.96s\tremaining: 1.55s\n",
      "559:\tlearn: 0.1834436\ttotal: 1.97s\tremaining: 1.54s\n",
      "560:\tlearn: 0.1833905\ttotal: 1.97s\tremaining: 1.54s\n",
      "561:\tlearn: 0.1833177\ttotal: 1.97s\tremaining: 1.54s\n",
      "562:\tlearn: 0.1832343\ttotal: 1.98s\tremaining: 1.53s\n",
      "563:\tlearn: 0.1831807\ttotal: 1.98s\tremaining: 1.53s\n",
      "564:\tlearn: 0.1831248\ttotal: 1.98s\tremaining: 1.53s\n",
      "565:\tlearn: 0.1830802\ttotal: 1.99s\tremaining: 1.52s\n",
      "566:\tlearn: 0.1830005\ttotal: 1.99s\tremaining: 1.52s\n",
      "567:\tlearn: 0.1829370\ttotal: 1.99s\tremaining: 1.52s\n",
      "568:\tlearn: 0.1828968\ttotal: 2s\tremaining: 1.51s\n",
      "569:\tlearn: 0.1828606\ttotal: 2s\tremaining: 1.51s\n",
      "570:\tlearn: 0.1828159\ttotal: 2s\tremaining: 1.5s\n",
      "571:\tlearn: 0.1827655\ttotal: 2.01s\tremaining: 1.5s\n",
      "572:\tlearn: 0.1826720\ttotal: 2.01s\tremaining: 1.5s\n",
      "573:\tlearn: 0.1826115\ttotal: 2.01s\tremaining: 1.49s\n",
      "574:\tlearn: 0.1825205\ttotal: 2.02s\tremaining: 1.49s\n",
      "575:\tlearn: 0.1824485\ttotal: 2.02s\tremaining: 1.49s\n",
      "576:\tlearn: 0.1823572\ttotal: 2.02s\tremaining: 1.48s\n",
      "577:\tlearn: 0.1823019\ttotal: 2.03s\tremaining: 1.48s\n",
      "578:\tlearn: 0.1822462\ttotal: 2.03s\tremaining: 1.48s\n",
      "579:\tlearn: 0.1821989\ttotal: 2.03s\tremaining: 1.47s\n",
      "580:\tlearn: 0.1821729\ttotal: 2.04s\tremaining: 1.47s\n",
      "581:\tlearn: 0.1820883\ttotal: 2.04s\tremaining: 1.46s\n",
      "582:\tlearn: 0.1820105\ttotal: 2.04s\tremaining: 1.46s\n",
      "583:\tlearn: 0.1819390\ttotal: 2.04s\tremaining: 1.46s\n",
      "584:\tlearn: 0.1818795\ttotal: 2.05s\tremaining: 1.45s\n",
      "585:\tlearn: 0.1818220\ttotal: 2.05s\tremaining: 1.45s\n",
      "586:\tlearn: 0.1817638\ttotal: 2.05s\tremaining: 1.45s\n",
      "587:\tlearn: 0.1817002\ttotal: 2.06s\tremaining: 1.44s\n",
      "588:\tlearn: 0.1816403\ttotal: 2.06s\tremaining: 1.44s\n",
      "589:\tlearn: 0.1815722\ttotal: 2.06s\tremaining: 1.43s\n",
      "590:\tlearn: 0.1815343\ttotal: 2.07s\tremaining: 1.43s\n",
      "591:\tlearn: 0.1814570\ttotal: 2.07s\tremaining: 1.43s\n",
      "592:\tlearn: 0.1813782\ttotal: 2.07s\tremaining: 1.42s\n",
      "593:\tlearn: 0.1813224\ttotal: 2.08s\tremaining: 1.42s\n",
      "594:\tlearn: 0.1812786\ttotal: 2.08s\tremaining: 1.42s\n",
      "595:\tlearn: 0.1812342\ttotal: 2.08s\tremaining: 1.41s\n",
      "596:\tlearn: 0.1811725\ttotal: 2.08s\tremaining: 1.41s\n",
      "597:\tlearn: 0.1811185\ttotal: 2.09s\tremaining: 1.4s\n",
      "598:\tlearn: 0.1810371\ttotal: 2.09s\tremaining: 1.4s\n",
      "599:\tlearn: 0.1809720\ttotal: 2.09s\tremaining: 1.4s\n",
      "600:\tlearn: 0.1808997\ttotal: 2.1s\tremaining: 1.39s\n",
      "601:\tlearn: 0.1808608\ttotal: 2.1s\tremaining: 1.39s\n",
      "602:\tlearn: 0.1807768\ttotal: 2.11s\tremaining: 1.39s\n",
      "603:\tlearn: 0.1806996\ttotal: 2.11s\tremaining: 1.38s\n",
      "604:\tlearn: 0.1806686\ttotal: 2.11s\tremaining: 1.38s\n",
      "605:\tlearn: 0.1806354\ttotal: 2.12s\tremaining: 1.38s\n",
      "606:\tlearn: 0.1805332\ttotal: 2.12s\tremaining: 1.37s\n",
      "607:\tlearn: 0.1804806\ttotal: 2.12s\tremaining: 1.37s\n",
      "608:\tlearn: 0.1804160\ttotal: 2.13s\tremaining: 1.36s\n",
      "609:\tlearn: 0.1803263\ttotal: 2.13s\tremaining: 1.36s\n",
      "610:\tlearn: 0.1802940\ttotal: 2.13s\tremaining: 1.36s\n",
      "611:\tlearn: 0.1802195\ttotal: 2.13s\tremaining: 1.35s\n",
      "612:\tlearn: 0.1801617\ttotal: 2.14s\tremaining: 1.35s\n",
      "613:\tlearn: 0.1800855\ttotal: 2.14s\tremaining: 1.35s\n",
      "614:\tlearn: 0.1800682\ttotal: 2.14s\tremaining: 1.34s\n",
      "615:\tlearn: 0.1800044\ttotal: 2.15s\tremaining: 1.34s\n",
      "616:\tlearn: 0.1799659\ttotal: 2.15s\tremaining: 1.33s\n",
      "617:\tlearn: 0.1798873\ttotal: 2.15s\tremaining: 1.33s\n",
      "618:\tlearn: 0.1798322\ttotal: 2.16s\tremaining: 1.33s\n",
      "619:\tlearn: 0.1797816\ttotal: 2.16s\tremaining: 1.32s\n",
      "620:\tlearn: 0.1796603\ttotal: 2.16s\tremaining: 1.32s\n",
      "621:\tlearn: 0.1796071\ttotal: 2.17s\tremaining: 1.32s\n",
      "622:\tlearn: 0.1795517\ttotal: 2.17s\tremaining: 1.31s\n",
      "623:\tlearn: 0.1794884\ttotal: 2.17s\tremaining: 1.31s\n",
      "624:\tlearn: 0.1794293\ttotal: 2.17s\tremaining: 1.3s\n",
      "625:\tlearn: 0.1793780\ttotal: 2.18s\tremaining: 1.3s\n",
      "626:\tlearn: 0.1793457\ttotal: 2.18s\tremaining: 1.3s\n",
      "627:\tlearn: 0.1792631\ttotal: 2.19s\tremaining: 1.29s\n",
      "628:\tlearn: 0.1791871\ttotal: 2.19s\tremaining: 1.29s\n",
      "629:\tlearn: 0.1791494\ttotal: 2.19s\tremaining: 1.29s\n",
      "630:\tlearn: 0.1790905\ttotal: 2.2s\tremaining: 1.28s\n",
      "631:\tlearn: 0.1790410\ttotal: 2.2s\tremaining: 1.28s\n",
      "632:\tlearn: 0.1790206\ttotal: 2.2s\tremaining: 1.28s\n",
      "633:\tlearn: 0.1789699\ttotal: 2.21s\tremaining: 1.27s\n",
      "634:\tlearn: 0.1789091\ttotal: 2.21s\tremaining: 1.27s\n",
      "635:\tlearn: 0.1788748\ttotal: 2.21s\tremaining: 1.27s\n",
      "636:\tlearn: 0.1788421\ttotal: 2.21s\tremaining: 1.26s\n",
      "637:\tlearn: 0.1788002\ttotal: 2.22s\tremaining: 1.26s\n",
      "638:\tlearn: 0.1787323\ttotal: 2.22s\tremaining: 1.25s\n",
      "639:\tlearn: 0.1786780\ttotal: 2.22s\tremaining: 1.25s\n",
      "640:\tlearn: 0.1786071\ttotal: 2.23s\tremaining: 1.25s\n",
      "641:\tlearn: 0.1785351\ttotal: 2.23s\tremaining: 1.24s\n",
      "642:\tlearn: 0.1784411\ttotal: 2.23s\tremaining: 1.24s\n",
      "643:\tlearn: 0.1784051\ttotal: 2.24s\tremaining: 1.24s\n",
      "644:\tlearn: 0.1783290\ttotal: 2.24s\tremaining: 1.23s\n",
      "645:\tlearn: 0.1782593\ttotal: 2.24s\tremaining: 1.23s\n",
      "646:\tlearn: 0.1782045\ttotal: 2.25s\tremaining: 1.23s\n",
      "647:\tlearn: 0.1781282\ttotal: 2.25s\tremaining: 1.22s\n",
      "648:\tlearn: 0.1780850\ttotal: 2.25s\tremaining: 1.22s\n",
      "649:\tlearn: 0.1780507\ttotal: 2.25s\tremaining: 1.21s\n",
      "650:\tlearn: 0.1779646\ttotal: 2.26s\tremaining: 1.21s\n",
      "651:\tlearn: 0.1779063\ttotal: 2.26s\tremaining: 1.21s\n",
      "652:\tlearn: 0.1778605\ttotal: 2.27s\tremaining: 1.2s\n",
      "653:\tlearn: 0.1778092\ttotal: 2.27s\tremaining: 1.2s\n",
      "654:\tlearn: 0.1777725\ttotal: 2.27s\tremaining: 1.2s\n",
      "655:\tlearn: 0.1777266\ttotal: 2.28s\tremaining: 1.19s\n",
      "656:\tlearn: 0.1776600\ttotal: 2.28s\tremaining: 1.19s\n",
      "657:\tlearn: 0.1776043\ttotal: 2.28s\tremaining: 1.19s\n",
      "658:\tlearn: 0.1775513\ttotal: 2.29s\tremaining: 1.18s\n"
     ]
    },
    {
     "name": "stdout",
     "output_type": "stream",
     "text": [
      "659:\tlearn: 0.1775204\ttotal: 2.29s\tremaining: 1.18s\n",
      "660:\tlearn: 0.1774751\ttotal: 2.3s\tremaining: 1.18s\n",
      "661:\tlearn: 0.1773704\ttotal: 2.3s\tremaining: 1.17s\n",
      "662:\tlearn: 0.1772743\ttotal: 2.3s\tremaining: 1.17s\n",
      "663:\tlearn: 0.1772038\ttotal: 2.31s\tremaining: 1.17s\n",
      "664:\tlearn: 0.1771209\ttotal: 2.31s\tremaining: 1.16s\n",
      "665:\tlearn: 0.1770396\ttotal: 2.31s\tremaining: 1.16s\n",
      "666:\tlearn: 0.1769897\ttotal: 2.32s\tremaining: 1.16s\n",
      "667:\tlearn: 0.1769596\ttotal: 2.32s\tremaining: 1.15s\n",
      "668:\tlearn: 0.1768882\ttotal: 2.32s\tremaining: 1.15s\n",
      "669:\tlearn: 0.1768152\ttotal: 2.33s\tremaining: 1.15s\n",
      "670:\tlearn: 0.1767490\ttotal: 2.33s\tremaining: 1.14s\n",
      "671:\tlearn: 0.1767102\ttotal: 2.33s\tremaining: 1.14s\n",
      "672:\tlearn: 0.1766435\ttotal: 2.34s\tremaining: 1.14s\n",
      "673:\tlearn: 0.1765753\ttotal: 2.34s\tremaining: 1.13s\n",
      "674:\tlearn: 0.1764690\ttotal: 2.34s\tremaining: 1.13s\n",
      "675:\tlearn: 0.1764205\ttotal: 2.35s\tremaining: 1.12s\n",
      "676:\tlearn: 0.1763572\ttotal: 2.35s\tremaining: 1.12s\n",
      "677:\tlearn: 0.1762861\ttotal: 2.35s\tremaining: 1.12s\n",
      "678:\tlearn: 0.1762446\ttotal: 2.36s\tremaining: 1.11s\n",
      "679:\tlearn: 0.1761389\ttotal: 2.36s\tremaining: 1.11s\n",
      "680:\tlearn: 0.1760806\ttotal: 2.37s\tremaining: 1.11s\n",
      "681:\tlearn: 0.1760220\ttotal: 2.37s\tremaining: 1.1s\n",
      "682:\tlearn: 0.1759747\ttotal: 2.38s\tremaining: 1.1s\n",
      "683:\tlearn: 0.1759464\ttotal: 2.38s\tremaining: 1.1s\n",
      "684:\tlearn: 0.1758584\ttotal: 2.38s\tremaining: 1.09s\n",
      "685:\tlearn: 0.1758167\ttotal: 2.38s\tremaining: 1.09s\n",
      "686:\tlearn: 0.1757770\ttotal: 2.39s\tremaining: 1.09s\n",
      "687:\tlearn: 0.1757532\ttotal: 2.39s\tremaining: 1.08s\n",
      "688:\tlearn: 0.1757076\ttotal: 2.39s\tremaining: 1.08s\n",
      "689:\tlearn: 0.1756222\ttotal: 2.4s\tremaining: 1.08s\n",
      "690:\tlearn: 0.1755730\ttotal: 2.4s\tremaining: 1.07s\n",
      "691:\tlearn: 0.1755212\ttotal: 2.4s\tremaining: 1.07s\n",
      "692:\tlearn: 0.1754210\ttotal: 2.41s\tremaining: 1.06s\n",
      "693:\tlearn: 0.1753688\ttotal: 2.41s\tremaining: 1.06s\n",
      "694:\tlearn: 0.1752951\ttotal: 2.41s\tremaining: 1.06s\n",
      "695:\tlearn: 0.1752436\ttotal: 2.42s\tremaining: 1.05s\n",
      "696:\tlearn: 0.1751936\ttotal: 2.42s\tremaining: 1.05s\n",
      "697:\tlearn: 0.1751409\ttotal: 2.42s\tremaining: 1.05s\n",
      "698:\tlearn: 0.1751082\ttotal: 2.42s\tremaining: 1.04s\n",
      "699:\tlearn: 0.1750582\ttotal: 2.43s\tremaining: 1.04s\n",
      "700:\tlearn: 0.1749893\ttotal: 2.43s\tremaining: 1.04s\n",
      "701:\tlearn: 0.1748743\ttotal: 2.44s\tremaining: 1.03s\n",
      "702:\tlearn: 0.1747996\ttotal: 2.44s\tremaining: 1.03s\n",
      "703:\tlearn: 0.1747579\ttotal: 2.44s\tremaining: 1.03s\n",
      "704:\tlearn: 0.1746915\ttotal: 2.44s\tremaining: 1.02s\n",
      "705:\tlearn: 0.1746464\ttotal: 2.45s\tremaining: 1.02s\n",
      "706:\tlearn: 0.1745646\ttotal: 2.45s\tremaining: 1.01s\n",
      "707:\tlearn: 0.1745036\ttotal: 2.45s\tremaining: 1.01s\n",
      "708:\tlearn: 0.1744048\ttotal: 2.46s\tremaining: 1.01s\n",
      "709:\tlearn: 0.1743097\ttotal: 2.46s\tremaining: 1s\n",
      "710:\tlearn: 0.1742540\ttotal: 2.46s\tremaining: 1s\n",
      "711:\tlearn: 0.1742463\ttotal: 2.47s\tremaining: 998ms\n",
      "712:\tlearn: 0.1741804\ttotal: 2.47s\tremaining: 995ms\n",
      "713:\tlearn: 0.1741385\ttotal: 2.47s\tremaining: 991ms\n",
      "714:\tlearn: 0.1740807\ttotal: 2.48s\tremaining: 988ms\n",
      "715:\tlearn: 0.1740550\ttotal: 2.48s\tremaining: 984ms\n",
      "716:\tlearn: 0.1739872\ttotal: 2.49s\tremaining: 981ms\n",
      "717:\tlearn: 0.1739246\ttotal: 2.49s\tremaining: 978ms\n",
      "718:\tlearn: 0.1738730\ttotal: 2.49s\tremaining: 975ms\n",
      "719:\tlearn: 0.1738179\ttotal: 2.5s\tremaining: 971ms\n",
      "720:\tlearn: 0.1737717\ttotal: 2.5s\tremaining: 967ms\n",
      "721:\tlearn: 0.1736789\ttotal: 2.5s\tremaining: 964ms\n",
      "722:\tlearn: 0.1736073\ttotal: 2.51s\tremaining: 960ms\n",
      "723:\tlearn: 0.1735801\ttotal: 2.51s\tremaining: 957ms\n",
      "724:\tlearn: 0.1734862\ttotal: 2.51s\tremaining: 953ms\n",
      "725:\tlearn: 0.1733965\ttotal: 2.52s\tremaining: 949ms\n",
      "726:\tlearn: 0.1733286\ttotal: 2.52s\tremaining: 946ms\n",
      "727:\tlearn: 0.1732925\ttotal: 2.52s\tremaining: 942ms\n",
      "728:\tlearn: 0.1732391\ttotal: 2.52s\tremaining: 938ms\n",
      "729:\tlearn: 0.1731698\ttotal: 2.53s\tremaining: 935ms\n",
      "730:\tlearn: 0.1731283\ttotal: 2.53s\tremaining: 931ms\n",
      "731:\tlearn: 0.1730696\ttotal: 2.53s\tremaining: 927ms\n",
      "732:\tlearn: 0.1729951\ttotal: 2.54s\tremaining: 924ms\n",
      "733:\tlearn: 0.1729661\ttotal: 2.54s\tremaining: 920ms\n",
      "734:\tlearn: 0.1729426\ttotal: 2.54s\tremaining: 917ms\n",
      "735:\tlearn: 0.1728970\ttotal: 2.54s\tremaining: 913ms\n",
      "736:\tlearn: 0.1728502\ttotal: 2.55s\tremaining: 910ms\n",
      "737:\tlearn: 0.1727878\ttotal: 2.55s\tremaining: 906ms\n",
      "738:\tlearn: 0.1727641\ttotal: 2.56s\tremaining: 903ms\n",
      "739:\tlearn: 0.1727196\ttotal: 2.56s\tremaining: 899ms\n",
      "740:\tlearn: 0.1726643\ttotal: 2.56s\tremaining: 895ms\n",
      "741:\tlearn: 0.1726084\ttotal: 2.56s\tremaining: 892ms\n",
      "742:\tlearn: 0.1725722\ttotal: 2.57s\tremaining: 888ms\n",
      "743:\tlearn: 0.1724882\ttotal: 2.57s\tremaining: 885ms\n",
      "744:\tlearn: 0.1724583\ttotal: 2.57s\tremaining: 881ms\n",
      "745:\tlearn: 0.1724158\ttotal: 2.58s\tremaining: 877ms\n",
      "746:\tlearn: 0.1723695\ttotal: 2.58s\tremaining: 874ms\n",
      "747:\tlearn: 0.1722948\ttotal: 2.58s\tremaining: 870ms\n",
      "748:\tlearn: 0.1722276\ttotal: 2.59s\tremaining: 867ms\n",
      "749:\tlearn: 0.1721926\ttotal: 2.59s\tremaining: 863ms\n",
      "750:\tlearn: 0.1721485\ttotal: 2.59s\tremaining: 860ms\n",
      "751:\tlearn: 0.1720670\ttotal: 2.6s\tremaining: 856ms\n",
      "752:\tlearn: 0.1720310\ttotal: 2.6s\tremaining: 852ms\n",
      "753:\tlearn: 0.1719580\ttotal: 2.6s\tremaining: 849ms\n",
      "754:\tlearn: 0.1718873\ttotal: 2.6s\tremaining: 845ms\n",
      "755:\tlearn: 0.1718252\ttotal: 2.61s\tremaining: 842ms\n",
      "756:\tlearn: 0.1717706\ttotal: 2.61s\tremaining: 838ms\n",
      "757:\tlearn: 0.1717294\ttotal: 2.61s\tremaining: 835ms\n",
      "758:\tlearn: 0.1716487\ttotal: 2.62s\tremaining: 831ms\n",
      "759:\tlearn: 0.1716165\ttotal: 2.62s\tremaining: 828ms\n",
      "760:\tlearn: 0.1715742\ttotal: 2.62s\tremaining: 824ms\n",
      "761:\tlearn: 0.1715172\ttotal: 2.63s\tremaining: 820ms\n",
      "762:\tlearn: 0.1714652\ttotal: 2.63s\tremaining: 817ms\n",
      "763:\tlearn: 0.1713951\ttotal: 2.63s\tremaining: 814ms\n",
      "764:\tlearn: 0.1713398\ttotal: 2.64s\tremaining: 810ms\n",
      "765:\tlearn: 0.1712919\ttotal: 2.64s\tremaining: 807ms\n",
      "766:\tlearn: 0.1712471\ttotal: 2.64s\tremaining: 803ms\n",
      "767:\tlearn: 0.1711833\ttotal: 2.65s\tremaining: 800ms\n",
      "768:\tlearn: 0.1711506\ttotal: 2.65s\tremaining: 796ms\n",
      "769:\tlearn: 0.1710893\ttotal: 2.65s\tremaining: 792ms\n",
      "770:\tlearn: 0.1710229\ttotal: 2.65s\tremaining: 789ms\n",
      "771:\tlearn: 0.1709669\ttotal: 2.66s\tremaining: 785ms\n",
      "772:\tlearn: 0.1709219\ttotal: 2.66s\tremaining: 782ms\n",
      "773:\tlearn: 0.1708567\ttotal: 2.67s\tremaining: 778ms\n",
      "774:\tlearn: 0.1708217\ttotal: 2.67s\tremaining: 775ms\n",
      "775:\tlearn: 0.1707658\ttotal: 2.67s\tremaining: 771ms\n",
      "776:\tlearn: 0.1707049\ttotal: 2.67s\tremaining: 767ms\n",
      "777:\tlearn: 0.1706591\ttotal: 2.68s\tremaining: 764ms\n",
      "778:\tlearn: 0.1705494\ttotal: 2.68s\tremaining: 761ms\n",
      "779:\tlearn: 0.1705318\ttotal: 2.69s\tremaining: 758ms\n",
      "780:\tlearn: 0.1704415\ttotal: 2.69s\tremaining: 754ms\n",
      "781:\tlearn: 0.1703874\ttotal: 2.69s\tremaining: 751ms\n",
      "782:\tlearn: 0.1703285\ttotal: 2.7s\tremaining: 747ms\n",
      "783:\tlearn: 0.1702476\ttotal: 2.7s\tremaining: 744ms\n",
      "784:\tlearn: 0.1702035\ttotal: 2.7s\tremaining: 740ms\n",
      "785:\tlearn: 0.1701719\ttotal: 2.71s\tremaining: 737ms\n",
      "786:\tlearn: 0.1701456\ttotal: 2.71s\tremaining: 733ms\n",
      "787:\tlearn: 0.1700690\ttotal: 2.71s\tremaining: 729ms\n",
      "788:\tlearn: 0.1700078\ttotal: 2.71s\tremaining: 726ms\n",
      "789:\tlearn: 0.1699781\ttotal: 2.72s\tremaining: 722ms\n",
      "790:\tlearn: 0.1699175\ttotal: 2.72s\tremaining: 719ms\n",
      "791:\tlearn: 0.1698868\ttotal: 2.72s\tremaining: 715ms\n",
      "792:\tlearn: 0.1698073\ttotal: 2.73s\tremaining: 712ms\n",
      "793:\tlearn: 0.1697811\ttotal: 2.73s\tremaining: 708ms\n",
      "794:\tlearn: 0.1697446\ttotal: 2.73s\tremaining: 705ms\n",
      "795:\tlearn: 0.1696979\ttotal: 2.74s\tremaining: 701ms\n",
      "796:\tlearn: 0.1695941\ttotal: 2.74s\tremaining: 698ms\n",
      "797:\tlearn: 0.1695572\ttotal: 2.74s\tremaining: 694ms\n",
      "798:\tlearn: 0.1695146\ttotal: 2.75s\tremaining: 691ms\n",
      "799:\tlearn: 0.1694368\ttotal: 2.75s\tremaining: 687ms\n",
      "800:\tlearn: 0.1693437\ttotal: 2.75s\tremaining: 684ms\n",
      "801:\tlearn: 0.1692435\ttotal: 2.75s\tremaining: 680ms\n",
      "802:\tlearn: 0.1691891\ttotal: 2.76s\tremaining: 677ms\n",
      "803:\tlearn: 0.1691377\ttotal: 2.76s\tremaining: 673ms\n",
      "804:\tlearn: 0.1691022\ttotal: 2.76s\tremaining: 670ms\n",
      "805:\tlearn: 0.1690755\ttotal: 2.77s\tremaining: 666ms\n",
      "806:\tlearn: 0.1690034\ttotal: 2.77s\tremaining: 663ms\n",
      "807:\tlearn: 0.1689610\ttotal: 2.77s\tremaining: 659ms\n",
      "808:\tlearn: 0.1689195\ttotal: 2.78s\tremaining: 656ms\n",
      "809:\tlearn: 0.1688542\ttotal: 2.78s\tremaining: 652ms\n",
      "810:\tlearn: 0.1687888\ttotal: 2.78s\tremaining: 649ms\n",
      "811:\tlearn: 0.1687449\ttotal: 2.79s\tremaining: 645ms\n",
      "812:\tlearn: 0.1687023\ttotal: 2.79s\tremaining: 642ms\n",
      "813:\tlearn: 0.1686300\ttotal: 2.79s\tremaining: 638ms\n",
      "814:\tlearn: 0.1685555\ttotal: 2.79s\tremaining: 635ms\n",
      "815:\tlearn: 0.1684754\ttotal: 2.8s\tremaining: 631ms\n",
      "816:\tlearn: 0.1684392\ttotal: 2.8s\tremaining: 628ms\n",
      "817:\tlearn: 0.1684013\ttotal: 2.81s\tremaining: 624ms\n",
      "818:\tlearn: 0.1683655\ttotal: 2.81s\tremaining: 621ms\n",
      "819:\tlearn: 0.1683374\ttotal: 2.81s\tremaining: 617ms\n",
      "820:\tlearn: 0.1682849\ttotal: 2.81s\tremaining: 614ms\n",
      "821:\tlearn: 0.1682413\ttotal: 2.82s\tremaining: 610ms\n",
      "822:\tlearn: 0.1681829\ttotal: 2.82s\tremaining: 607ms\n",
      "823:\tlearn: 0.1681011\ttotal: 2.82s\tremaining: 603ms\n",
      "824:\tlearn: 0.1680392\ttotal: 2.83s\tremaining: 600ms\n",
      "825:\tlearn: 0.1679967\ttotal: 2.83s\tremaining: 597ms\n",
      "826:\tlearn: 0.1679448\ttotal: 2.84s\tremaining: 594ms\n",
      "827:\tlearn: 0.1678843\ttotal: 2.84s\tremaining: 591ms\n",
      "828:\tlearn: 0.1678500\ttotal: 2.85s\tremaining: 588ms\n",
      "829:\tlearn: 0.1677727\ttotal: 2.85s\tremaining: 585ms\n",
      "830:\tlearn: 0.1677145\ttotal: 2.86s\tremaining: 582ms\n",
      "831:\tlearn: 0.1676523\ttotal: 2.87s\tremaining: 579ms\n"
     ]
    },
    {
     "name": "stdout",
     "output_type": "stream",
     "text": [
      "832:\tlearn: 0.1675472\ttotal: 2.87s\tremaining: 576ms\n",
      "833:\tlearn: 0.1674756\ttotal: 2.88s\tremaining: 573ms\n",
      "834:\tlearn: 0.1674167\ttotal: 2.88s\tremaining: 569ms\n",
      "835:\tlearn: 0.1673830\ttotal: 2.88s\tremaining: 566ms\n",
      "836:\tlearn: 0.1673102\ttotal: 2.89s\tremaining: 562ms\n",
      "837:\tlearn: 0.1672244\ttotal: 2.89s\tremaining: 559ms\n",
      "838:\tlearn: 0.1671735\ttotal: 2.89s\tremaining: 555ms\n",
      "839:\tlearn: 0.1671390\ttotal: 2.9s\tremaining: 552ms\n",
      "840:\tlearn: 0.1670893\ttotal: 2.9s\tremaining: 548ms\n",
      "841:\tlearn: 0.1670611\ttotal: 2.9s\tremaining: 545ms\n",
      "842:\tlearn: 0.1670269\ttotal: 2.91s\tremaining: 541ms\n",
      "843:\tlearn: 0.1669681\ttotal: 2.91s\tremaining: 538ms\n",
      "844:\tlearn: 0.1669252\ttotal: 2.91s\tremaining: 534ms\n",
      "845:\tlearn: 0.1668796\ttotal: 2.92s\tremaining: 531ms\n",
      "846:\tlearn: 0.1668485\ttotal: 2.92s\tremaining: 527ms\n",
      "847:\tlearn: 0.1668191\ttotal: 2.92s\tremaining: 524ms\n",
      "848:\tlearn: 0.1667761\ttotal: 2.92s\tremaining: 520ms\n",
      "849:\tlearn: 0.1667098\ttotal: 2.93s\tremaining: 517ms\n",
      "850:\tlearn: 0.1666833\ttotal: 2.93s\tremaining: 513ms\n",
      "851:\tlearn: 0.1666186\ttotal: 2.93s\tremaining: 510ms\n",
      "852:\tlearn: 0.1665508\ttotal: 2.94s\tremaining: 506ms\n",
      "853:\tlearn: 0.1664931\ttotal: 2.94s\tremaining: 503ms\n",
      "854:\tlearn: 0.1664344\ttotal: 2.94s\tremaining: 499ms\n",
      "855:\tlearn: 0.1664013\ttotal: 2.95s\tremaining: 496ms\n",
      "856:\tlearn: 0.1663303\ttotal: 2.95s\tremaining: 492ms\n",
      "857:\tlearn: 0.1663011\ttotal: 2.95s\tremaining: 489ms\n",
      "858:\tlearn: 0.1662687\ttotal: 2.95s\tremaining: 485ms\n",
      "859:\tlearn: 0.1662527\ttotal: 2.96s\tremaining: 481ms\n",
      "860:\tlearn: 0.1662064\ttotal: 2.96s\tremaining: 478ms\n",
      "861:\tlearn: 0.1661897\ttotal: 2.96s\tremaining: 474ms\n",
      "862:\tlearn: 0.1661202\ttotal: 2.97s\tremaining: 471ms\n",
      "863:\tlearn: 0.1660524\ttotal: 2.97s\tremaining: 467ms\n",
      "864:\tlearn: 0.1660263\ttotal: 2.98s\tremaining: 465ms\n",
      "865:\tlearn: 0.1659598\ttotal: 2.98s\tremaining: 462ms\n",
      "866:\tlearn: 0.1659228\ttotal: 2.99s\tremaining: 458ms\n",
      "867:\tlearn: 0.1658603\ttotal: 2.99s\tremaining: 455ms\n",
      "868:\tlearn: 0.1658091\ttotal: 2.99s\tremaining: 451ms\n",
      "869:\tlearn: 0.1657695\ttotal: 3s\tremaining: 448ms\n",
      "870:\tlearn: 0.1656690\ttotal: 3s\tremaining: 444ms\n",
      "871:\tlearn: 0.1655997\ttotal: 3s\tremaining: 441ms\n",
      "872:\tlearn: 0.1655848\ttotal: 3.01s\tremaining: 438ms\n",
      "873:\tlearn: 0.1654960\ttotal: 3.01s\tremaining: 434ms\n",
      "874:\tlearn: 0.1654816\ttotal: 3.02s\tremaining: 431ms\n",
      "875:\tlearn: 0.1654498\ttotal: 3.02s\tremaining: 427ms\n",
      "876:\tlearn: 0.1653892\ttotal: 3.02s\tremaining: 424ms\n",
      "877:\tlearn: 0.1653395\ttotal: 3.02s\tremaining: 420ms\n",
      "878:\tlearn: 0.1653130\ttotal: 3.03s\tremaining: 417ms\n",
      "879:\tlearn: 0.1652840\ttotal: 3.03s\tremaining: 413ms\n",
      "880:\tlearn: 0.1652302\ttotal: 3.04s\tremaining: 410ms\n",
      "881:\tlearn: 0.1651409\ttotal: 3.04s\tremaining: 406ms\n",
      "882:\tlearn: 0.1650905\ttotal: 3.04s\tremaining: 403ms\n",
      "883:\tlearn: 0.1650255\ttotal: 3.04s\tremaining: 400ms\n",
      "884:\tlearn: 0.1649732\ttotal: 3.05s\tremaining: 396ms\n",
      "885:\tlearn: 0.1648976\ttotal: 3.05s\tremaining: 393ms\n",
      "886:\tlearn: 0.1647812\ttotal: 3.06s\tremaining: 389ms\n",
      "887:\tlearn: 0.1647340\ttotal: 3.06s\tremaining: 386ms\n",
      "888:\tlearn: 0.1646983\ttotal: 3.06s\tremaining: 382ms\n",
      "889:\tlearn: 0.1646729\ttotal: 3.07s\tremaining: 379ms\n",
      "890:\tlearn: 0.1646345\ttotal: 3.07s\tremaining: 376ms\n",
      "891:\tlearn: 0.1645867\ttotal: 3.08s\tremaining: 372ms\n",
      "892:\tlearn: 0.1645092\ttotal: 3.08s\tremaining: 369ms\n",
      "893:\tlearn: 0.1644677\ttotal: 3.08s\tremaining: 365ms\n",
      "894:\tlearn: 0.1644198\ttotal: 3.08s\tremaining: 362ms\n",
      "895:\tlearn: 0.1643663\ttotal: 3.09s\tremaining: 358ms\n",
      "896:\tlearn: 0.1643042\ttotal: 3.09s\tremaining: 355ms\n",
      "897:\tlearn: 0.1642907\ttotal: 3.09s\tremaining: 351ms\n",
      "898:\tlearn: 0.1642470\ttotal: 3.1s\tremaining: 348ms\n",
      "899:\tlearn: 0.1642152\ttotal: 3.1s\tremaining: 344ms\n",
      "900:\tlearn: 0.1641783\ttotal: 3.1s\tremaining: 341ms\n",
      "901:\tlearn: 0.1641430\ttotal: 3.11s\tremaining: 338ms\n",
      "902:\tlearn: 0.1640698\ttotal: 3.11s\tremaining: 334ms\n",
      "903:\tlearn: 0.1640226\ttotal: 3.11s\tremaining: 331ms\n",
      "904:\tlearn: 0.1639639\ttotal: 3.12s\tremaining: 327ms\n",
      "905:\tlearn: 0.1639061\ttotal: 3.12s\tremaining: 324ms\n",
      "906:\tlearn: 0.1638614\ttotal: 3.12s\tremaining: 320ms\n",
      "907:\tlearn: 0.1638301\ttotal: 3.12s\tremaining: 317ms\n",
      "908:\tlearn: 0.1637690\ttotal: 3.13s\tremaining: 313ms\n",
      "909:\tlearn: 0.1637039\ttotal: 3.13s\tremaining: 310ms\n",
      "910:\tlearn: 0.1636528\ttotal: 3.13s\tremaining: 306ms\n",
      "911:\tlearn: 0.1636118\ttotal: 3.14s\tremaining: 303ms\n",
      "912:\tlearn: 0.1635286\ttotal: 3.14s\tremaining: 299ms\n",
      "913:\tlearn: 0.1634743\ttotal: 3.14s\tremaining: 296ms\n",
      "914:\tlearn: 0.1633974\ttotal: 3.15s\tremaining: 292ms\n",
      "915:\tlearn: 0.1633411\ttotal: 3.15s\tremaining: 289ms\n",
      "916:\tlearn: 0.1632868\ttotal: 3.15s\tremaining: 286ms\n",
      "917:\tlearn: 0.1632703\ttotal: 3.16s\tremaining: 282ms\n",
      "918:\tlearn: 0.1632158\ttotal: 3.16s\tremaining: 279ms\n",
      "919:\tlearn: 0.1631764\ttotal: 3.16s\tremaining: 275ms\n",
      "920:\tlearn: 0.1631517\ttotal: 3.17s\tremaining: 272ms\n",
      "921:\tlearn: 0.1631107\ttotal: 3.17s\tremaining: 268ms\n",
      "922:\tlearn: 0.1630663\ttotal: 3.17s\tremaining: 265ms\n",
      "923:\tlearn: 0.1630448\ttotal: 3.17s\tremaining: 261ms\n",
      "924:\tlearn: 0.1629998\ttotal: 3.18s\tremaining: 258ms\n",
      "925:\tlearn: 0.1629389\ttotal: 3.18s\tremaining: 254ms\n",
      "926:\tlearn: 0.1629114\ttotal: 3.19s\tremaining: 251ms\n",
      "927:\tlearn: 0.1628170\ttotal: 3.19s\tremaining: 247ms\n",
      "928:\tlearn: 0.1628042\ttotal: 3.19s\tremaining: 244ms\n",
      "929:\tlearn: 0.1627690\ttotal: 3.19s\tremaining: 240ms\n",
      "930:\tlearn: 0.1626787\ttotal: 3.2s\tremaining: 237ms\n",
      "931:\tlearn: 0.1626560\ttotal: 3.2s\tremaining: 234ms\n",
      "932:\tlearn: 0.1625876\ttotal: 3.2s\tremaining: 230ms\n",
      "933:\tlearn: 0.1625375\ttotal: 3.21s\tremaining: 227ms\n",
      "934:\tlearn: 0.1624680\ttotal: 3.21s\tremaining: 223ms\n",
      "935:\tlearn: 0.1624094\ttotal: 3.21s\tremaining: 220ms\n",
      "936:\tlearn: 0.1623208\ttotal: 3.22s\tremaining: 216ms\n",
      "937:\tlearn: 0.1622741\ttotal: 3.22s\tremaining: 213ms\n",
      "938:\tlearn: 0.1622230\ttotal: 3.22s\tremaining: 209ms\n",
      "939:\tlearn: 0.1621643\ttotal: 3.23s\tremaining: 206ms\n",
      "940:\tlearn: 0.1621130\ttotal: 3.23s\tremaining: 202ms\n",
      "941:\tlearn: 0.1620755\ttotal: 3.23s\tremaining: 199ms\n",
      "942:\tlearn: 0.1620144\ttotal: 3.23s\tremaining: 196ms\n",
      "943:\tlearn: 0.1619588\ttotal: 3.24s\tremaining: 192ms\n",
      "944:\tlearn: 0.1619218\ttotal: 3.24s\tremaining: 189ms\n",
      "945:\tlearn: 0.1618576\ttotal: 3.24s\tremaining: 185ms\n",
      "946:\tlearn: 0.1618207\ttotal: 3.25s\tremaining: 182ms\n",
      "947:\tlearn: 0.1617427\ttotal: 3.25s\tremaining: 178ms\n",
      "948:\tlearn: 0.1616711\ttotal: 3.25s\tremaining: 175ms\n",
      "949:\tlearn: 0.1615811\ttotal: 3.26s\tremaining: 172ms\n",
      "950:\tlearn: 0.1615022\ttotal: 3.26s\tremaining: 168ms\n",
      "951:\tlearn: 0.1614601\ttotal: 3.27s\tremaining: 165ms\n",
      "952:\tlearn: 0.1614082\ttotal: 3.27s\tremaining: 161ms\n",
      "953:\tlearn: 0.1613572\ttotal: 3.27s\tremaining: 158ms\n",
      "954:\tlearn: 0.1613364\ttotal: 3.28s\tremaining: 154ms\n",
      "955:\tlearn: 0.1613158\ttotal: 3.28s\tremaining: 151ms\n",
      "956:\tlearn: 0.1612346\ttotal: 3.28s\tremaining: 147ms\n",
      "957:\tlearn: 0.1611808\ttotal: 3.28s\tremaining: 144ms\n",
      "958:\tlearn: 0.1611609\ttotal: 3.29s\tremaining: 141ms\n",
      "959:\tlearn: 0.1611278\ttotal: 3.29s\tremaining: 137ms\n",
      "960:\tlearn: 0.1610965\ttotal: 3.29s\tremaining: 134ms\n",
      "961:\tlearn: 0.1610525\ttotal: 3.3s\tremaining: 130ms\n",
      "962:\tlearn: 0.1609865\ttotal: 3.3s\tremaining: 127ms\n",
      "963:\tlearn: 0.1609495\ttotal: 3.31s\tremaining: 123ms\n",
      "964:\tlearn: 0.1609031\ttotal: 3.31s\tremaining: 120ms\n",
      "965:\tlearn: 0.1608490\ttotal: 3.31s\tremaining: 117ms\n",
      "966:\tlearn: 0.1607899\ttotal: 3.31s\tremaining: 113ms\n",
      "967:\tlearn: 0.1607555\ttotal: 3.32s\tremaining: 110ms\n",
      "968:\tlearn: 0.1607400\ttotal: 3.32s\tremaining: 106ms\n",
      "969:\tlearn: 0.1606897\ttotal: 3.33s\tremaining: 103ms\n",
      "970:\tlearn: 0.1606401\ttotal: 3.33s\tremaining: 99.4ms\n",
      "971:\tlearn: 0.1606256\ttotal: 3.33s\tremaining: 96ms\n",
      "972:\tlearn: 0.1606019\ttotal: 3.33s\tremaining: 92.5ms\n",
      "973:\tlearn: 0.1605531\ttotal: 3.34s\tremaining: 89.1ms\n",
      "974:\tlearn: 0.1605161\ttotal: 3.34s\tremaining: 85.7ms\n",
      "975:\tlearn: 0.1604359\ttotal: 3.35s\tremaining: 82.3ms\n",
      "976:\tlearn: 0.1604000\ttotal: 3.35s\tremaining: 78.8ms\n",
      "977:\tlearn: 0.1603531\ttotal: 3.35s\tremaining: 75.4ms\n",
      "978:\tlearn: 0.1603305\ttotal: 3.35s\tremaining: 71.9ms\n",
      "979:\tlearn: 0.1602887\ttotal: 3.36s\tremaining: 68.5ms\n",
      "980:\tlearn: 0.1602460\ttotal: 3.36s\tremaining: 65.1ms\n",
      "981:\tlearn: 0.1602027\ttotal: 3.36s\tremaining: 61.6ms\n",
      "982:\tlearn: 0.1601641\ttotal: 3.37s\tremaining: 58.2ms\n",
      "983:\tlearn: 0.1601370\ttotal: 3.37s\tremaining: 54.8ms\n",
      "984:\tlearn: 0.1601067\ttotal: 3.37s\tremaining: 51.4ms\n",
      "985:\tlearn: 0.1600785\ttotal: 3.38s\tremaining: 47.9ms\n",
      "986:\tlearn: 0.1600289\ttotal: 3.38s\tremaining: 44.5ms\n",
      "987:\tlearn: 0.1599761\ttotal: 3.38s\tremaining: 41.1ms\n",
      "988:\tlearn: 0.1598980\ttotal: 3.38s\tremaining: 37.7ms\n",
      "989:\tlearn: 0.1598400\ttotal: 3.39s\tremaining: 34.2ms\n",
      "990:\tlearn: 0.1598121\ttotal: 3.39s\tremaining: 30.8ms\n",
      "991:\tlearn: 0.1597901\ttotal: 3.39s\tremaining: 27.4ms\n",
      "992:\tlearn: 0.1597362\ttotal: 3.4s\tremaining: 23.9ms\n",
      "993:\tlearn: 0.1596881\ttotal: 3.4s\tremaining: 20.5ms\n",
      "994:\tlearn: 0.1596539\ttotal: 3.4s\tremaining: 17.1ms\n",
      "995:\tlearn: 0.1595856\ttotal: 3.41s\tremaining: 13.7ms\n",
      "996:\tlearn: 0.1595102\ttotal: 3.41s\tremaining: 10.3ms\n",
      "997:\tlearn: 0.1594566\ttotal: 3.41s\tremaining: 6.84ms\n",
      "998:\tlearn: 0.1594207\ttotal: 3.42s\tremaining: 3.42ms\n",
      "999:\tlearn: 0.1593723\ttotal: 3.42s\tremaining: 0us\n"
     ]
    },
    {
     "data": {
      "text/plain": [
       "<catboost.core.CatBoostClassifier at 0x1a1f9ebbd0>"
      ]
     },
     "execution_count": 155,
     "metadata": {},
     "output_type": "execute_result"
    }
   ],
   "source": [
    "# Instantiating final model object with tuned hyperparameters\n",
    "catboost = CatBoostClassifier()\n",
    "\n",
    "# Fitting training data to object\n",
    "catboost.fit(X_train, y_train)"
   ]
  },
  {
   "cell_type": "markdown",
   "metadata": {},
   "source": [
    "[*Return to Top of Notebook*](#top-of-notebook)"
   ]
  },
  {
   "cell_type": "markdown",
   "metadata": {},
   "source": [
    "<a id = 'model-validation'></a>\n",
    "## Model Validation\n",
    "Now that we have completed our model experiments, let's wrap up this notebook with some validation and assessing how the models perform against the actual test dataset."
   ]
  },
  {
   "cell_type": "code",
   "execution_count": null,
   "metadata": {},
   "outputs": [],
   "source": []
  },
  {
   "cell_type": "code",
   "execution_count": null,
   "metadata": {},
   "outputs": [],
   "source": []
  },
  {
   "cell_type": "code",
   "execution_count": null,
   "metadata": {},
   "outputs": [],
   "source": []
  },
  {
   "cell_type": "markdown",
   "metadata": {},
   "source": [
    "[*Return to Top of Notebook*](#top-of-notebook)"
   ]
  },
  {
   "cell_type": "code",
   "execution_count": null,
   "metadata": {},
   "outputs": [],
   "source": []
  }
 ],
 "metadata": {
  "kernelspec": {
   "display_name": "Python 3",
   "language": "python",
   "name": "python3"
  },
  "language_info": {
   "codemirror_mode": {
    "name": "ipython",
    "version": 3
   },
   "file_extension": ".py",
   "mimetype": "text/x-python",
   "name": "python",
   "nbconvert_exporter": "python",
   "pygments_lexer": "ipython3",
   "version": "3.7.4"
  }
 },
 "nbformat": 4,
 "nbformat_minor": 2
}
